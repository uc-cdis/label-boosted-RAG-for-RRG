{
 "cells": [
  {
   "cell_type": "markdown",
   "metadata": {},
   "source": [
    "# Setup"
   ]
  },
  {
   "cell_type": "code",
   "execution_count": null,
   "metadata": {},
   "outputs": [],
   "source": []
  },
  {
   "cell_type": "markdown",
   "metadata": {},
   "source": [
    "# Create Dataset"
   ]
  },
  {
   "cell_type": "code",
   "execution_count": null,
   "metadata": {},
   "outputs": [],
   "source": [
    "import pandas as pd"
   ]
  },
  {
   "cell_type": "code",
   "execution_count": null,
   "metadata": {},
   "outputs": [],
   "source": [
    "pd.read_csv(\"/opt/gpudata/rrg-data-2/baselines/findings.csv\")"
   ]
  },
  {
   "cell_type": "code",
   "execution_count": null,
   "metadata": {},
   "outputs": [],
   "source": [
    "pd.read_csv(\"/opt/gpudata/rrg-data-2/baselines/impression.csv\")"
   ]
  },
  {
   "cell_type": "code",
   "execution_count": null,
   "metadata": {},
   "outputs": [],
   "source": []
  },
  {
   "cell_type": "code",
   "execution_count": null,
   "metadata": {},
   "outputs": [],
   "source": []
  },
  {
   "cell_type": "markdown",
   "metadata": {},
   "source": [
    "# Results"
   ]
  },
  {
   "cell_type": "code",
   "execution_count": null,
   "metadata": {},
   "outputs": [],
   "source": [
    "findings_df = pd.read_csv(\"/opt/gpudata/rrg-data-2/inference-all/inference_findings_data.csv\")\n",
    "impression_df = pd.read_csv(\"/opt/gpudata/rrg-data-2/inference-all/inference_impression_data.csv\")\n",
    "\n",
    "print(findings_df.head())\n",
    "print(impression_df.head())\n",
    "\n",
    "find_sids = findings_df[\"study_id\"].tolist()\n",
    "imp_sids = impression_df[\"study_id\"].tolist()"
   ]
  },
  {
   "cell_type": "code",
   "execution_count": null,
   "metadata": {},
   "outputs": [],
   "source": [
    "# paths for generations\n",
    "\n",
    "inference_results_path = \"/opt/gpudata/rrg-data-2/inference-all/inf-results/\""
   ]
  },
  {
   "cell_type": "markdown",
   "metadata": {},
   "source": [
    "## rgrg"
   ]
  },
  {
   "cell_type": "code",
   "execution_count": null,
   "metadata": {},
   "outputs": [],
   "source": [
    "# rgrg_results = pd.read_csv(\"/opt/gpudata/rrg-data-2/inference-all/inf-results/rgrg/generations_findings.csv\")\n",
    "rgrg_filename = \"rgrg/generations_findings.csv\"\n",
    "rgrg_results = pd.read_csv(os.path.join(inference_results_path, rgrg_filename))\n",
    "assert set(rgrg_results.study_id.tolist()) == set(find_sids)"
   ]
  },
  {
   "cell_type": "markdown",
   "metadata": {},
   "source": [
    "## cxrmate"
   ]
  },
  {
   "cell_type": "code",
   "execution_count": null,
   "metadata": {},
   "outputs": [],
   "source": [
    "cxrmate_results = pd.read_csv(os.path.join(inference_results_path, \"cxr-mate/generations.csv\"))\n",
    "# cxrmate_results = pd.read_csv(\"/opt/gpudata/rrg-data-2/inference-all/inf-results/cxr-mate/generations.csv\")\n",
    "cxrmate_findings = cxrmate_results[cxrmate_results[\"study_id\"].isin(find_sids)][[\"study_id\", \"findings\"]]\n",
    "\n",
    "assert set(cxrmate_findings[\"study_id\"]) == set(find_sids)\n",
    "assert any(cxrmate_findings[\"findings\"].notnull())\n",
    "\n",
    "cxrmate_impression = cxrmate_results[cxrmate_results[\"study_id\"].isin(imp_sids)][[\"study_id\", \"impression\"]]\n",
    "\n",
    "assert set(cxrmate_impression.study_id) == set(imp_sids)\n",
    "assert any(cxrmate_impression[\"impression\"].notnull())\n",
    "\n",
    "cxrmate_both = pd.DataFrame.merge(cxrmate_findings, cxrmate_impression, on=\"study_id\")\n",
    "assert set(cxrmate_both.study_id) == set(set(find_sids).intersection(set(imp_sids)))\n",
    "\n",
    "# findings\n",
    "cxrmate_findings_final = cxrmate_findings.merge(findings_df, on=\"study_id\")\n",
    "cxrmate_findings_final.rename(columns={\"findings_x\" : \"generated_text\", \"findings_y\" : \"actual_text\"}, inplace=True)\n",
    "# cxrmate_findings_final[[\"dicom_id\", \"study_id\", \"actual_text\", \"generated_text\"]].to_csv(\"/opt/gpudata/rrg-data-2/inference-all/inf-results/cxr-mate/generations_findings.csv\")\n",
    "cxrmate_findings_final[[\"dicom_id\", \"study_id\", \"actual_text\", \"generated_text\"]].to_csv(os.path.join(inference_results_path, \"cxr-mate/generations_findings.csv\"))\n",
    "\n",
    "\n",
    "# impression\n",
    "cxrmate_impression_final = cxrmate_impression.merge(impression_df, on=\"study_id\")\n",
    "cxrmate_impression_final.rename(columns={\"impression_x\" : \"generated_text\", \"impression_y\" : \"actual_text\"}, inplace=True)\n",
    "# cxrmate_impression_final[[\"dicom_id\", \"study_id\", \"actual_text\", \"generated_text\"]].to_csv(\"/opt/gpudata/rrg-data-2/inference-all/inf-results/cxr-mate/generations_impression.csv\")\n",
    "cxrmate_impression_final[[\"dicom_id\", \"study_id\", \"actual_text\", \"generated_text\"]].to_csv(os.path.join(inference_results_path, \"cxr-mate/generations_impression.csv\"))\n",
    "\n",
    "\n",
    "# both\n",
    "def create_actual_report(row):\n",
    "    return f\"Findings:\\n{row['findings']}\\nImpression:\\n{row['impression']}\"\n",
    "\n",
    "def create_generated_report(row):\n",
    "    return f\"Findings:\\n{row['findings']}\\nImpression:\\n{row['impression']}\"\n",
    "\n",
    "full_reports_actual = pd.merge(findings_df, impression_df, on=\"study_id\")\n",
    "full_reports_actual[\"actual_text\"] = full_reports_actual.apply(create_actual_report, axis=1)\n",
    "\n",
    "# findings and impression\n",
    "cxrmate_both[\"generated_text\"] = cxrmate_both.apply(create_generated_report, axis=1)\n",
    "cxrmate_both_final = cxrmate_both.merge(full_reports_actual[[\"study_id\", \"actual_text\"]], on=\"study_id\")\n",
    "# cxrmate_both_final[[\"study_id\", \"actual_text\", \"generated_text\"]].to_csv(\"/opt/gpudata/rrg-data-2/inference-all/inf-results/cxr-mate/generations_full_reports.csv\")\n",
    "cxrmate_both_final[[\"study_id\", \"actual_text\", \"generated_text\"]].to_csv(os.path.join(inference_results_path, \"cxr-mate/generations_full_reports.csv\"))"
   ]
  },
  {
   "cell_type": "markdown",
   "metadata": {},
   "source": [
    "## chexagent"
   ]
  },
  {
   "cell_type": "code",
   "execution_count": null,
   "metadata": {},
   "outputs": [],
   "source": [
    "# chexagent_results = pd.read_csv(\"/opt/gpudata/rrg-data-2/inference-all/inf-results/chexagent/generations.csv\")\n",
    "chexagent_results = pd.read_csv(os.path.join(inference_results_path, \"chexagent/generations.csv\"))\n",
    "chexagent_findings = chexagent_results[chexagent_results[\"study_id\"].isin(find_sids)][[\"study_id\", \"findings\"]]\n",
    "chexagent_impression = chexagent_results[chexagent_results[\"study_id\"].isin(imp_sids)][[\"study_id\", \"impression\"]]\n",
    "chexagent_both = pd.DataFrame.merge(chexagent_findings, chexagent_impression, on=\"study_id\")\n",
    "\n",
    "# findings\n",
    "\n",
    "chexagent_findings_final = chexagent_findings.merge(findings_df, on=\"study_id\")\n",
    "chexagent_findings_final.rename(columns={\"findings_x\" : \"generated_text\", \"findings_y\" : \"actual_text\"}, inplace=True)\n",
    "chexagent_findings_final[[\"dicom_id\", \"study_id\", \"actual_text\", \"generated_text\"]].to_csv(\"/opt/gpudata/rrg-data-2/inference-all/inf-results/chexagent/generations_findings.csv\")\n",
    "chexagent_findings_final[[\"dicom_id\", \"study_id\", \"actual_text\", \"generated_text\"]].to_csv(os.path.join(inference_results_path, \"chexagent/generations_findings.csv\"))\n",
    "\n",
    "# impression\n",
    "\n",
    "chexagent_impression_final = chexagent_impression.merge(impression_df, on=\"study_id\")\n",
    "chexagent_impression_final.rename(columns={\"impression_x\" : \"generated_text\", \"impression_y\" : \"actual_text\"}, inplace=True)\n",
    "# chexagent_impression_final[[\"dicom_id\", \"study_id\", \"actual_text\", \"generated_text\"]].to_csv(\"/opt/gpudata/rrg-data-2/inference-all/inf-results/chexagent/generations_impression.csv\")\n",
    "chexagent_impression_final[[\"dicom_id\", \"study_id\", \"actual_text\", \"generated_text\"]].to_csv(os.path.join(inference_results_path, \"chexagent/generations_impression.csv\"))\n",
    "\n",
    "# both\n",
    "\n",
    "def create_actual_report(row):\n",
    "    return f\"Findings:\\n{row['findings']}\\nImpression:\\n{row['impression']}\"\n",
    "\n",
    "def create_generated_report(row):\n",
    "    return f\"Findings:\\n{row['findings']}\\nImpression:\\n{row['impression']}\"\n",
    "\n",
    "full_reports_actual = pd.merge(findings_df, impression_df, on=\"study_id\")\n",
    "full_reports_actual[\"actual_text\"] = full_reports_actual.apply(create_actual_report, axis=1)\n",
    "\n",
    "# findings and impression\n",
    "chexagent_both[\"generated_text\"] = chexagent_both.apply(create_generated_report, axis=1)\n",
    "chexagent_both_final = chexagent_both.merge(full_reports_actual[[\"study_id\", \"actual_text\"]], on=\"study_id\")\n",
    "# chexagent_both_final[[\"study_id\", \"actual_text\", \"generated_text\"]].to_csv(\"/opt/gpudata/rrg-data-2/inference-all/inf-results/chexagent/generations_full_reports.csv\")\n",
    "chexagent_both_final[[\"study_id\", \"actual_text\", \"generated_text\"]].to_csv(os.path.join(inference_results_path, \"chexagent/generations_full_reports.csv\"))\n"
   ]
  },
  {
   "cell_type": "markdown",
   "metadata": {},
   "source": [
    "## cxr-repair"
   ]
  },
  {
   "cell_type": "code",
   "execution_count": null,
   "metadata": {},
   "outputs": [],
   "source": [
    "# cxr_repair_generations = pd.read_csv(\"/opt/gpudata/rrg-data-2/inference-all/inf-results/cxr-repair/generations_full.csv\")\n",
    "cxr_repair_generations = pd.read_csv(os.path.join(inference_path_results, \"cxr-repair/generations_full.csv\"))\n",
    "\n",
    "# filter and add actual text from impression\n",
    "cxr_repair_gen_final = cxr_repair_generations.merge(impression_df, on=\"study_id\")\n",
    "cxr_repair_gen_final = cxr_repair_gen_final.drop_duplicates(\"study_id\").rename(columns={\"impression\" : \"actual_text\"})\n",
    "# cxr_repair_gen_final[[\"dicom_id\", \"study_id\", \"actual_text\", \"generated_text\"]].to_csv(\"/opt/gpudata/rrg-data-2/inference-all/inf-results/cxr-repair/generations_impression.csv\")\n",
    "cxr_repair_gen_final[[\"dicom_id\", \"study_id\", \"actual_text\", \"generated_text\"]].to_csv(os.path.join(inference_results_path, \"cxr-repair/generations_impression.csv\"))"
   ]
  },
  {
   "cell_type": "markdown",
   "metadata": {},
   "source": [
    "## cxr-redone"
   ]
  },
  {
   "cell_type": "code",
   "execution_count": null,
   "metadata": {},
   "outputs": [],
   "source": [
    "# cxr_redone_results = pd.read_csv(\"/opt/gpudata/rrg-data-2/inference-all/inf-results/cxr-redone/generations.csv\")\n",
    "cxr_redone_results = pd.read_csv(os.path.join(inference_results_path, \"cxr-redone/generations.csv\"))\n",
    "\n",
    "# xrem_sids = pd.read_csv(\"/opt/gpudata/rrg-data-2/inference-all/inf-temp/x-rem/xrem_sids.csv\")\n",
    "xrem_sids = pd.read_csv(os.path.join(inference_results_path, \"x-rem/xrem_sids.csv\"))\n",
    "cxr_redone_results = cxr_redone_results.merge(xrem_sids, left_index=True, right_index=True, how=\"inner\")\n",
    "cxr_redone_final = cxr_redone_results.merge(impression_df, on=\"study_id\")\n",
    "cxr_redone_final = cxr_redone_final.drop_duplicates(\"study_id\").rename(\n",
    "    columns={\n",
    "        \"impression\" : \"actual_text\",\n",
    "        \"Report Impression\": \"generated_text\"\n",
    "    })\n",
    "# cxr_redone_final[[\"dicom_id\", \"study_id\", \"actual_text\", \"generated_text\"]].to_csv(\"/opt/gpudata/rrg-data-2/inference-all/inf-results/cxr-redone/generations_impression.csv\")\n",
    "cxr_redone_final[[\"dicom_id\", \"study_id\", \"actual_text\", \"generated_text\"]].to_csv(os.path.join(inference_results_path, \"cxr-redone/generations_impression.csv\"))\n",
    "\n"
   ]
  },
  {
   "cell_type": "markdown",
   "metadata": {},
   "source": [
    "## xrem"
   ]
  },
  {
   "cell_type": "code",
   "execution_count": null,
   "metadata": {},
   "outputs": [],
   "source": [
    "# xrem_results = pd.read_csv(\"/opt/gpudata/rrg-data-2/inference-all/inf-results/x-rem/final_results_filtered.csv\")\n",
    "# xrem_sids = pd.read_csv(\"/opt/gpudata/rrg-data-2/inference-all/inf-temp/x-rem/xrem_sids.csv\")\n",
    "xrem_results = pd.read_csv(os.path.join(inference_results_path, \"x-rem/final_results_filtered.csv\"))\n",
    "xrem_sids = pd.read_csv(os.path.join(inference_results_path, \"x-rem/xrem_sids.csv\"))\n",
    "xrem_results_all = xrem_results.merge(xrem_sids, left_index=True, right_index=True, how=\"inner\")\n",
    "xrem_results_all = xrem_results_all.merge(impression_df, on=\"study_id\")\n",
    "xrem_results_all = xrem_results_all.drop_duplicates(\"study_id\")\n",
    "# xrem_results_all[[\"dicom_id\", \"study_id\", \"impression\", \"Report Impression\"]].rename(\n",
    "#     columns={\n",
    "#         \"impression\" : \"actual_text\",\n",
    "#         \"Report Impression\" : \"generated_text\"\n",
    "#     }).to_csv(\"/opt/gpudata/rrg-data-2/inference-all/inf-results/x-rem/generations_impression.csv\")\n",
    "xrem_results_all[[\"dicom_id\", \"study_id\", \"impression\", \"Report Impression\"]].rename(\n",
    "    columns={\n",
    "        \"impression\" : \"actual_text\",\n",
    "        \"Report Impression\" : \"generated_text\"\n",
    "    }).to_csv(os.path.join(inference_results_path, \"x-rem/generations_impression.csv\"))"
   ]
  },
  {
   "cell_type": "markdown",
   "metadata": {},
   "source": [
    "# Create inference results"
   ]
  },
  {
   "cell_type": "code",
   "execution_count": null,
   "metadata": {},
   "outputs": [],
   "source": [
    "def extract_exp_info(experiment):\n",
    "    tabs = experiment.split(\"_\")\n",
    "    return {\n",
    "         \"section\" : \"_\".join(tabs[1:-1])\n",
    "    }\n",
    "\n",
    "# extract_exp_info(\"generations_full_reports_METRICS.csv\")\n",
    "# extract_exp_info(\"generations_findings_METRICS.csv\")\n",
    "\n",
    "# our results\n",
    "def extract_results(df):\n",
    "    results = {}\n",
    "    results[\"run\"] = \"\"\n",
    "    results[\"BLEU4\"] = df[\"bleu4\"].mean() * 100.0\n",
    "    results[\"RougeL\"]= df[\"rougeL\"].mean() * 100.0\n",
    "    results[\"BertScore\"] = df[\"bertscore\"].mean() * 100.0\n",
    "    results[\"f1-RadGraph\"] = df[\"f1radgraph\"].mean() * 100.0\n",
    "    results[\"f1-CheXbert\"] = df[\"f1chexbert\"].mean() * 100.0\n",
    "    return results"
   ]
  },
  {
   "cell_type": "code",
   "execution_count": null,
   "metadata": {},
   "outputs": [],
   "source": [
    "results_dir = \"/opt/gpudata/rrg-data-2/inference-all/inf-results/\"\n",
    "all_results = {\n",
    "    \"findings\" : [],\n",
    "    \"impression\" : [],\n",
    "    \"both\" : [],\n",
    "}\n",
    "\n",
    "for foldername in os.listdir(results_dir):\n",
    "    print(foldername)\n",
    "    folderpath = os.path.join(results_dir, foldername)\n",
    "    if os.path.isdir(folderpath):\n",
    "        for filename in os.listdir(folderpath):\n",
    "            if \"METRICS\" in filename:\n",
    "                res = extract_exp_info(filename)\n",
    "                filepath = os.path.join(results_dir, os.path.join(foldername, filename))\n",
    "                df = pd.read_csv(filepath)\n",
    "\n",
    "                # aggregate results\n",
    "                results = {}\n",
    "                # run_name = f\"{foldername}_{res['section']}\"\n",
    "                run_name = f\"{foldername}\"\n",
    "                results[\"run\"] = run_name\n",
    "                results[\"BLEU4\"] = df[\"bleu4\"].mean() * 100.0\n",
    "                results[\"RougeL\"]= df[\"rougeL\"].mean() * 100.0\n",
    "                results[\"BertScore\"] = df[\"bertscore\"].mean() * 100.0\n",
    "                results[\"f1-RadGraph\"] = df[\"f1radgraph\"].mean() * 100.0\n",
    "                results[\"f1-CheXbert\"] = df[\"f1chexbert\"].mean() * 100.0\n",
    "\n",
    "                if \"findings\" in filename:\n",
    "                    all_results[\"findings\"].append(results)\n",
    "                elif \"impression\" in filename:\n",
    "                    all_results[\"impression\"].append(results)\n",
    "                else:\n",
    "                    all_results[\"both\"].append(results)"
   ]
  },
  {
   "cell_type": "markdown",
   "metadata": {},
   "source": [
    "### findings"
   ]
  },
  {
   "cell_type": "code",
   "execution_count": null,
   "metadata": {},
   "outputs": [],
   "source": [
    "# findings\n",
    "findings_best = pd.read_csv(\"/opt/gpudata/rrg-data-2/exp-findings/exp-model/Mistral-7B-Instruct-v0.3_exact_pred-label_simple_top-5_findings_METRICS.csv\")\n",
    "findings_result = extract_results(findings_best)\n",
    "findings_result[\"run\"] = \"lab-rag\"\n",
    "pd.DataFrame(findings_result, index=[0])"
   ]
  },
  {
   "cell_type": "code",
   "execution_count": null,
   "metadata": {},
   "outputs": [],
   "source": [
    "pd.DataFrame.from_dict(all_results[\"findings\"])"
   ]
  },
  {
   "cell_type": "code",
   "execution_count": null,
   "metadata": {},
   "outputs": [],
   "source": [
    "# final table\n",
    "findings_df = pd.DataFrame.from_dict(all_results[\"findings\"])\n",
    "findings_df.loc[-1] = findings_result\n",
    "findings_df.reset_index(drop=True)"
   ]
  },
  {
   "cell_type": "markdown",
   "metadata": {},
   "source": [
    "### impression"
   ]
  },
  {
   "cell_type": "code",
   "execution_count": null,
   "metadata": {},
   "outputs": [],
   "source": [
    "# impression\n",
    "impression_best = pd.read_csv(\"/opt/gpudata/rrg-data-2/exp-impression/exp-model/Mistral-7B-Instruct-v0.3_exact_pred-label_simple_top-5_impression_METRICS.csv\")\n",
    "impression_result = extract_results(impression_best)\n",
    "impression_result[\"run\"] = \"lab-rag\"\n",
    "pd.DataFrame(impression_result, index=[0])"
   ]
  },
  {
   "cell_type": "code",
   "execution_count": null,
   "metadata": {},
   "outputs": [],
   "source": [
    "pd.DataFrame.from_dict(all_results[\"impression\"])"
   ]
  },
  {
   "cell_type": "code",
   "execution_count": null,
   "metadata": {},
   "outputs": [],
   "source": [
    "# final table\n",
    "impression_df = pd.DataFrame.from_dict(all_results[\"impression\"])\n",
    "impression_df.loc[-1] = impression_result\n",
    "impression_df.reset_index(drop=True)"
   ]
  },
  {
   "cell_type": "markdown",
   "metadata": {},
   "source": [
    "### both"
   ]
  },
  {
   "cell_type": "code",
   "execution_count": null,
   "metadata": {},
   "outputs": [],
   "source": [
    "#both \n",
    "both_best = pd.read_csv(\"/opt/gpudata/rrg-data-2/exp-section/Mistral-7B-Instruct-v0.3_exact_pred-label_simple_top-5_both_METRICS.csv\")\n",
    "both_result = extract_results(both_best)\n",
    "both_result[\"run\"] = \"lab-rag\"\n",
    "pd.DataFrame(both_result, index=[0])"
   ]
  },
  {
   "cell_type": "code",
   "execution_count": null,
   "metadata": {},
   "outputs": [],
   "source": [
    "pd.DataFrame.from_dict(all_results[\"both\"])"
   ]
  },
  {
   "cell_type": "code",
   "execution_count": null,
   "metadata": {},
   "outputs": [],
   "source": [
    "# final table\n",
    "\n",
    "both_df = pd.DataFrame.from_dict(all_results[\"both\"])\n",
    "both_df.loc[-1] = both_result\n",
    "both_df.reset_index(drop=True)"
   ]
  }
 ],
 "metadata": {
  "kernelspec": {
   "display_name": "rrg",
   "language": "python",
   "name": "python3"
  },
  "language_info": {
   "codemirror_mode": {
    "name": "ipython",
    "version": 3
   },
   "file_extension": ".py",
   "mimetype": "text/x-python",
   "name": "python",
   "nbconvert_exporter": "python",
   "pygments_lexer": "ipython3",
   "version": "3.10.13"
  }
 },
 "nbformat": 4,
 "nbformat_minor": 4
}
