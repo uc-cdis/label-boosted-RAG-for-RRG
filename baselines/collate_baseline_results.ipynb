{
 "cells": [
  {
   "cell_type": "code",
   "execution_count": null,
   "metadata": {},
   "outputs": [],
   "source": [
    "import os\n",
    "import h5py\n",
    "import pandas as pd\n",
    "\n",
    "# prefix = \"/path/to\"\n",
    "prefix = \"/opt/gpudata/rrg-data-2/baselines\""
   ]
  },
  {
   "cell_type": "code",
   "execution_count": null,
   "metadata": {},
   "outputs": [],
   "source": [
    "findings = pd.read_csv(os.path.join(prefix, \"findings.csv\"))[[\"study_id\", \"dicom_id\", \"findings\"]].rename(columns={\"findings\": \"actual_text\"})\n",
    "impression = pd.read_csv(os.path.join(prefix, \"impression.csv\"))[[\"study_id\", \"dicom_id\", \"impression\"]].rename(columns={\"impression\": \"actual_text\"})"
   ]
  },
  {
   "cell_type": "code",
   "execution_count": null,
   "metadata": {},
   "outputs": [],
   "source": [
    "assert not findings[[\"study_id\", \"dicom_id\"]].duplicated().any()\n",
    "assert not impression[[\"study_id\", \"dicom_id\"]].duplicated().any()"
   ]
  },
  {
   "cell_type": "code",
   "execution_count": null,
   "metadata": {},
   "outputs": [],
   "source": [
    "with h5py.File(os.path.join(prefix, \"cxrrepair/data/test/cxr.h5\"), \"r\") as h5:\n",
    "    dicom_ids = h5[\"did\"][:].astype(str).tolist()\n",
    "    study_ids = h5[\"sid\"][:]"
   ]
  },
  {
   "cell_type": "code",
   "execution_count": null,
   "metadata": {},
   "outputs": [],
   "source": [
    "cxrrepair = pd.read_csv(os.path.join(prefix, \"cxrrepair/outputs/generations.csv\"))\n",
    "# study_id,generated_text\n",
    "\n",
    "cxrredone = pd.read_csv(os.path.join(prefix, \"cxrredone/outputs/generations.csv\"))\n",
    "# study_id,Report Impression\n",
    "\n",
    "xrem = pd.read_csv(os.path.join(prefix, \"xrem/outputs/generations.csv\"))\n",
    "# study_id,Report Impression,filtered\n",
    "\n",
    "cxrmate = pd.read_csv(os.path.join(prefix, \"cxrmate/outputs/generations.csv\"))\n",
    "# study_id,dicom_id,findings,impression\n",
    "\n",
    "chexagent = pd.read_csv(os.path.join(prefix, \"chexagent/outputs/generations.csv.OLD\"))\n",
    "# study_id,findings,impression\n",
    "\n",
    "rgrg = pd.read_csv(os.path.join(prefix, \"rgrg/outputs/generations.csv\"))\n",
    "# study_id,actual_text,generated_text"
   ]
  },
  {
   "cell_type": "code",
   "execution_count": null,
   "metadata": {},
   "outputs": [],
   "source": [
    "assert (cxrrepair[\"study_id\"] == study_ids).all()\n",
    "assert (cxrredone[\"study_id\"] == study_ids).all()\n",
    "assert (xrem[\"study_id\"] == study_ids).all()"
   ]
  },
  {
   "cell_type": "code",
   "execution_count": null,
   "metadata": {},
   "outputs": [],
   "source": [
    "def select_view(df, reference):\n",
    "    df[\"dicom_id\"] = dicom_ids\n",
    "    df = df.merge(reference[[\"study_id\", \"dicom_id\"]], on=[\"study_id\", \"dicom_id\"])\n",
    "    return df\n",
    "\n",
    "cxrrepair = select_view(cxrrepair, impression)\n",
    "cxrredone = select_view(cxrredone, impression)\n",
    "xrem = select_view(xrem, impression)"
   ]
  },
  {
   "cell_type": "code",
   "execution_count": null,
   "metadata": {},
   "outputs": [],
   "source": [
    "assert not cxrrepair[\"study_id\"].duplicated().any()\n",
    "assert not cxrredone[\"study_id\"].duplicated().any()\n",
    "assert not xrem[\"study_id\"].duplicated().any()\n",
    "assert not cxrmate[\"study_id\"].duplicated().any()\n",
    "assert not chexagent[\"study_id\"].duplicated().any()\n",
    "assert not rgrg[\"study_id\"].duplicated().any()"
   ]
  },
  {
   "cell_type": "code",
   "execution_count": null,
   "metadata": {},
   "outputs": [],
   "source": [
    "# cxrrepair already has generated_text col\n",
    "cxrredone = cxrredone.rename(columns={\"Report Impression\": \"generated_text\"})\n",
    "xrem = xrem.rename(columns={\"filtered\": \"generated_text\"})\n",
    "cxrmate_impression = cxrmate.rename(columns={\"impression\": \"generated_text\"})\n",
    "chexagent_impression = chexagent.rename(columns={\"impression\": \"generated_text\"})\n",
    "\n",
    "cxrmate_findings = cxrmate.rename(columns={\"findings\": \"generated_text\"})\n",
    "chexagent_findings = chexagent.rename(columns={\"findings\": \"generated_text\"})\n",
    "# rgrg already has generated_text col"
   ]
  },
  {
   "cell_type": "code",
   "execution_count": null,
   "metadata": {},
   "outputs": [],
   "source": [
    "cxrrepair = cxrrepair.merge(impression[[\"study_id\", \"actual_text\"]], on=\"study_id\")\n",
    "cxrredone = cxrredone.merge(impression[[\"study_id\", \"actual_text\"]], on=\"study_id\")\n",
    "xrem = xrem.merge(impression[[\"study_id\", \"actual_text\"]], on=\"study_id\")\n",
    "cxrmate_impression = cxrmate_impression.merge(impression[[\"study_id\", \"actual_text\"]], on=\"study_id\")\n",
    "chexagent_impression = chexagent_impression.merge(impression[[\"study_id\", \"actual_text\"]], on=\"study_id\")\n",
    "\n",
    "cxrmate_findings = cxrmate_findings.merge(findings[[\"study_id\", \"actual_text\"]], on=\"study_id\")\n",
    "chexagent_findings = chexagent_findings.merge(findings[[\"study_id\", \"actual_text\"]], on=\"study_id\")\n",
    "# rgrg already has actual_text col\n",
    "assert rgrg.merge(findings[[\"study_id\"]], on=[\"study_id\"]).equals(rgrg)"
   ]
  },
  {
   "cell_type": "code",
   "execution_count": null,
   "metadata": {},
   "outputs": [],
   "source": [
    "assert not cxrrepair[\"study_id\"].duplicated().any()\n",
    "assert not cxrredone[\"study_id\"].duplicated().any()\n",
    "assert not xrem[\"study_id\"].duplicated().any()\n",
    "assert not cxrmate_impression[\"study_id\"].duplicated().any()\n",
    "assert not chexagent_impression[\"study_id\"].duplicated().any()\n",
    "\n",
    "assert not cxrmate_findings[\"study_id\"].duplicated().any()\n",
    "assert not chexagent_findings[\"study_id\"].duplicated().any()\n",
    "assert not rgrg[\"study_id\"].duplicated().any()"
   ]
  },
  {
   "cell_type": "code",
   "execution_count": null,
   "metadata": {},
   "outputs": [],
   "source": [
    "cols = [\"study_id\", \"actual_text\", \"generated_text\"]\n",
    "\n",
    "cxrmate_joint = cxrmate_findings[cols].merge(cxrmate_impression[cols], on=\"study_id\", suffixes=(\"_findings\", \"_impression\"))\n",
    "cxrmate_joint[\"actual_text\"] = \"Findings: \" + cxrmate_joint[\"actual_text_findings\"] + \"\\nImpression: \" + cxrmate_joint[\"actual_text_impression\"]\n",
    "cxrmate_joint[\"generated_text\"] = \"Findings: \" + cxrmate_joint[\"generated_text_findings\"] + \"\\nImpression: \" + cxrmate_joint[\"generated_text_impression\"]\n",
    "\n",
    "chexagent_joint = chexagent_findings[cols].merge(chexagent_impression[cols], on=\"study_id\", suffixes=(\"_findings\", \"_impression\"))\n",
    "chexagent_joint[\"actual_text\"] = \"Findings: \" + chexagent_joint[\"actual_text_findings\"] + \"\\nImpression: \" + chexagent_joint[\"actual_text_impression\"]\n",
    "chexagent_joint[\"generated_text\"] = \"Findings: \" + chexagent_joint[\"generated_text_findings\"] + \"\\nImpression: \" + chexagent_joint[\"generated_text_impression\"]\n",
    "\n",
    "cxrrepair[cols].to_csv(os.path.join(prefix, \"cxrrepair_impression.csv\"), index=False)\n",
    "cxrredone[cols].to_csv(os.path.join(prefix, \"cxrredone_impression.csv\"), index=False)\n",
    "xrem[cols].to_csv(os.path.join(prefix, \"xrem_impression.csv\"), index=False)\n",
    "cxrmate_impression[cols].to_csv(os.path.join(prefix, \"cxrmate_impression.csv\"), index=False)\n",
    "chexagent_impression[cols].to_csv(os.path.join(prefix, \"chexagent_impression.csv\"), index=False)\n",
    "\n",
    "cxrmate_findings[cols].to_csv(os.path.join(prefix, \"cxrmate_findings.csv\"), index=False)\n",
    "chexagent_findings[cols].to_csv(os.path.join(prefix, \"chexagent_findings.csv\"), index=False)\n",
    "rgrg[cols].to_csv(os.path.join(prefix, \"rgrg_findings.csv\"), index=False)\n",
    "\n",
    "cxrmate_joint[cols].to_csv(os.path.join(prefix, \"cxrmate_both.csv\"), index=False)\n",
    "chexagent_joint[cols].to_csv(os.path.join(prefix, \"chexagent_both.csv\"), index=False)"
   ]
  },
  {
   "cell_type": "code",
   "execution_count": null,
   "metadata": {},
   "outputs": [],
   "source": []
  }
 ],
 "metadata": {
  "kernelspec": {
   "display_name": "rrg",
   "language": "python",
   "name": "python3"
  },
  "language_info": {
   "codemirror_mode": {
    "name": "ipython",
    "version": 3
   },
   "file_extension": ".py",
   "mimetype": "text/x-python",
   "name": "python",
   "nbconvert_exporter": "python",
   "pygments_lexer": "ipython3",
   "version": "3.10.13"
  }
 },
 "nbformat": 4,
 "nbformat_minor": 2
}
