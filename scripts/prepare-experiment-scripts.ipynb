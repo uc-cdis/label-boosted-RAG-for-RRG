{
 "cells": [
  {
   "cell_type": "code",
   "execution_count": null,
   "id": "0",
   "metadata": {},
   "outputs": [],
   "source": [
    "for dataset in [\"mimic\", \"chexpertplus\"]:\n",
    "    if dataset == \"mimic\":\n",
    "        split_csv = \"$MIMIC_CXR_DIR/mimic-cxr-2.0.0-split.csv\"\n",
    "        metadata_csv = \"$MIMIC_CXR_DIR/mimic-cxr-2.0.0-metadata.csv\"\n",
    "    elif dataset == \"chexpertplus\":\n",
    "        split_csv = \"$MIMIC_CXR_DIR/mimic-cxr-2.0.0-split.csv\"\n",
    "        metadata_csv = \"$MIMIC_CXR_DIR/mimic-cxr-2.0.0-metadata.csv\"\n",
    "    else:\n",
    "        raise ValueError(f\"Unknown dataset: {dataset}\")\n",
    "\n",
    "    for section in [\"findings\", \"impression\"]:\n",
    "        true_label_csv = f\"$LABEL_DIR/{dataset}-{section}-labels.csv\"\n",
    "        "
   ]
  },
  {
   "cell_type": "code",
   "execution_count": null,
   "id": "1",
   "metadata": {},
   "outputs": [],
   "source": [
    "default_llm = \"mistralai/Mistral-7B-Instruct-v0.3\"\n",
    "\"/opt/gpudata/rrg-data-2/image-labels/pred_pr.csv\"\n",
    "\"$MIMIC_CXR_DIR/mimic_cxr_sectioned.csv\"\n",
    "\"/opt/gpudata/rrg-data-2/biovilt-features.h5\"\n",
    "\"/opt/gpudata/rrg-data-2/biovilt-features.h5\""
   ]
  },
  {
   "cell_type": "code",
   "execution_count": null,
   "id": "2",
   "metadata": {},
   "outputs": [],
   "source": [
    "\"\"\"\n",
    "python $REPO_ROOT/rrg/generate.py \\\\\n",
    "--model {llm} \\\\\n",
    "--filter_type {filter} \\\\\n",
    "--prompt_type {prompt} \\\\\n",
    "--section_type {section} \\\\\n",
    "--k 5 \\\\\n",
    "--batch_size 32 \\\\\n",
    "--prompt_yaml $REPO_ROOT/rrg/prompts.yaml \\\\\n",
    "--split_csv {split_csv} \\\\\n",
    "--metadata_csv {metadata_csv} \\\\\n",
    "--true_label_csv {true_label_csv} \\\\\n",
    "--predicted_label_csv {pred_label_csv} \\\\\n",
    "--report_csv {report_csv} \\\\\n",
    "--feature_h5 {embs} \\\\\n",
    "--output_dir {output_dir}\n",
    "\n",
    "python $REPO_ROOT/rrg/eval.py \\\\\n",
    "--report_csv /opt/gpudata/rrg-data-2/exp-findings/exp-filter/Mistral-7B-Instruct-v0.3_exact_pred-label_simple_top-5_findings.csv \\\\\n",
    "--output_csv /opt/gpudata/rrg-data-2/exp-findings/exp-filter/Mistral-7B-Instruct-v0.3_exact_pred-label_simple_top-5_findings_METRICS.csv\n",
    "\"\"\""
   ]
  }
 ],
 "metadata": {
  "language_info": {
   "name": "python"
  }
 },
 "nbformat": 4,
 "nbformat_minor": 5
}
