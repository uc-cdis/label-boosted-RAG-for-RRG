{
 "cells": [
  {
   "cell_type": "code",
   "execution_count": null,
   "id": "0",
   "metadata": {},
   "outputs": [],
   "source": [
    "import os\n",
    "import sys\n",
    "import pandas as pd\n",
    "\n",
    "sys.path.append(\"..\")\n",
    "from rrg._data import DEFAULT_LABELS"
   ]
  },
  {
   "cell_type": "code",
   "execution_count": null,
   "id": "1",
   "metadata": {},
   "outputs": [],
   "source": [
    "split = \"validate\""
   ]
  },
  {
   "cell_type": "code",
   "execution_count": null,
   "id": "2",
   "metadata": {},
   "outputs": [],
   "source": [
    "def get_best_results(dataset, section, df_true, val_ids):\n",
    "    results = dict()\n",
    "    for emb in [\"biovilt\", \"gloria\", \"resnet50\"]:\n",
    "        if emb == \"resnet50\":\n",
    "            continue\n",
    "\n",
    "        for cls in [\"classifiers\", \"lr-hyperparam\", \"svm-hyperparam\", \"rf-hyperparam\", \"xgb-hyperparam\"]:\n",
    "            for ths in [\"roc\", \"pr\"]:\n",
    "                pred_path = f\"/opt/gpudata/labrag/{dataset}-{section}-{emb}-{cls}/pred_{ths}.csv\"\n",
    "\n",
    "                if dataset == \"chexpertplus\" and emb == \"biovilt\":\n",
    "                    continue\n",
    "                elif dataset == \"mimic\" and emb == \"gloria\":\n",
    "                    continue\n",
    "\n",
    "                if not os.path.exists(pred_path):\n",
    "                    print(f\"skipping {pred_path}\")\n",
    "                    continue\n",
    "\n",
    "                df_pred = pd.read_csv(pred_path).set_index(\"study_id\")\n",
    "                idxs = sorted(list(set(df_pred.index) & set(val_ids)))\n",
    "                bin_pred = df_pred.loc[idxs, DEFAULT_LABELS] == 1\n",
    "                bin_true = df_true.loc[idxs, DEFAULT_LABELS] == 1\n",
    "                results[pred_path] = ((bin_pred == bin_true).sum(axis=0) / len(idxs))\n",
    "    results = pd.DataFrame().from_dict(results, orient=\"index\")\n",
    "    df = df_true.copy()\n",
    "    for label, pred_path in results.idxmax().items():\n",
    "        temp = pd.read_csv(pred_path)\n",
    "        assert (temp[\"study_id\"] == df.index).all()\n",
    "        df[label] = temp[label].to_list()\n",
    "    return df"
   ]
  },
  {
   "cell_type": "code",
   "execution_count": null,
   "id": "3",
   "metadata": {},
   "outputs": [],
   "source": [
    "for dataset in [\"chexpertplus\", \"mimic\"]:\n",
    "    for section in [\"findings\", \"impression\"]:\n",
    "        if dataset == \"chexpertplus\":\n",
    "            splits = pd.read_csv(\"/opt/gpudata/chexpertplus/split.csv\")\n",
    "        else: # mimic\n",
    "            splits = pd.read_csv(\"/opt/gpudata/mimic-cxr/mimic-cxr-2.0.0-split.csv\")\n",
    "\n",
    "        df_true = pd.read_csv(f\"/opt/gpudata/cxr-derived/{dataset}-{section}-labels.csv\").set_index(\"study_id\")\n",
    "\n",
    "        val_ids = splits.loc[splits[\"split\"] == split, \"study_id\"]\n",
    "\n",
    "        print(f\"----- {dataset}/{section} -----\")\n",
    "        df = get_best_results(dataset, section, df_true, val_ids)\n",
    "        df.reset_index().to_csv(f\"/opt/gpudata/labrag/{dataset}-{section}-best-pred.csv\", index=False)"
   ]
  },
  {
   "cell_type": "code",
   "execution_count": null,
   "id": "4",
   "metadata": {},
   "outputs": [],
   "source": []
  }
 ],
 "metadata": {
  "kernelspec": {
   "display_name": "labrag",
   "language": "python",
   "name": "python3"
  },
  "language_info": {
   "codemirror_mode": {
    "name": "ipython",
    "version": 3
   },
   "file_extension": ".py",
   "mimetype": "text/x-python",
   "name": "python",
   "nbconvert_exporter": "python",
   "pygments_lexer": "ipython3",
   "version": "3.10.13"
  }
 },
 "nbformat": 4,
 "nbformat_minor": 5
}
