{
 "cells": [
  {
   "cell_type": "markdown",
   "metadata": {},
   "source": [
    "# Setup"
   ]
  },
  {
   "cell_type": "markdown",
   "metadata": {},
   "source": [
    "Expected structure of the output directory\n",
    "```\n",
    "./path/to/output/directory/\n",
    "├── chexagent\n",
    "│   ├── generations.csv\n",
    "│\n",
    "├── cxr-mate\n",
    "│   ├── generations.csv\n",
    "│   \n",
    "├── cxr-redone\n",
    "│   ├── generations.csv\n",
    "│   \n",
    "├── cxr-repair\n",
    "│   ├── generations.csv\n",
    "│   \n",
    "├── rgrg\n",
    "│   ├── generations_findings.csv\n",
    "│   \n",
    "└── x-rem\n",
    "    ├── final_results_filtered.csv\n",
    "    ├── itm_results_temp.csv\n",
    "    └── xrem_sids.csv\n",
    "```"
   ]
  },
  {
   "cell_type": "markdown",
   "metadata": {},
   "source": [
    "```\n",
    "./path/to/output/directory/\n",
    "├── chexagent\n",
    "│   ├── generations.csv\n",
    "│   ├── generations_findings.csv\n",
    "│   ├── generations_findings_METRICS.csv\n",
    "│   ├── generations_full_reports.csv\n",
    "│   ├── generations_full_reports_METRICS.csv\n",
    "│   ├── generations_impression.csv\n",
    "│   └── generations_impression_METRICS.csv\n",
    "├── cxr-mate\n",
    "│   ├── generations.csv\n",
    "│   ├── generations_findings.csv\n",
    "│   ├── generations_findings_METRICS.csv\n",
    "│   ├── generations_full_reports.csv\n",
    "│   ├── generations_full_reports_METRICS.csv\n",
    "│   ├── generations_impression.csv\n",
    "│   └── generations_impression_METRICS.csv\n",
    "├── cxr-redone\n",
    "│   ├── generations.csv\n",
    "│   ├── generations_impression.csv\n",
    "│   └── generations_impression_METRICS.csv\n",
    "├── cxr-repair\n",
    "│   ├── generations.csv\n",
    "│   ├── generations_full.csv\n",
    "│   ├── generations_impression.csv\n",
    "│   ├── generations_impression_METRICS.csv\n",
    "│   └── genrations_impression.csv\n",
    "├── rgrg\n",
    "│   ├── generations.csv\n",
    "│   ├── generations_findings.csv\n",
    "│   └── generations_findings_METRICS.csv\n",
    "└── x-rem\n",
    "    ├── final_results_filtered.csv\n",
    "    ├── generations_impression.csv\n",
    "    ├── generations_impression_METRICS.csv\n",
    "    ├── itm_results_temp.csv\n",
    "    └── xrem_sids.csv\n",
    "```"
   ]
  },
  {
   "cell_type": "code",
   "execution_count": null,
   "metadata": {},
   "outputs": [],
   "source": [
    "import os\n",
    "import pandas as pd\n",
    "\n",
    "from pathlib import Path\n",
    "\n",
    "from rrg._data import (\n",
    "    DEFAULT_DICOM_ID_COL,\n",
    "    DEFAULT_FINDINGS_COL,\n",
    "    DEFAULT_IMG_PROJ_KEY,\n",
    "    DEFAULT_IMPRESSION_COL,\n",
    "    DEFAULT_LABELS,\n",
    "    DEFAULT_PATIENT_ID_COL,\n",
    "    DEFAULT_SPLIT_COL,\n",
    "    DEFAULT_STUDY_ID_COL,\n",
    "    DEFAULT_VIEW_COL,\n",
    "    DEFAULT_VIEW_ORDER,\n",
    "    get_per_study_data,\n",
    "    get_split_features,\n",
    "    get_split_samples,\n",
    ")\n",
    "\n",
    "\n",
    "# helper functions\n",
    "def extract_image_path(row):\n",
    "    prefix = \"/opt/gpudata/mimic-cxr/files/\"\n",
    "    subject_id = str(row[\"subject_id\"])\n",
    "    study_id = str(row[\"study_id\"])\n",
    "    dicom_id = str(row[\"dicom_id\"])\n",
    "    # path = \"p\" + str(row[\"subject_id\"])[:2] + \"/p\" + str(row[\"subject_id\"]) + \"/s\" + str(row[\"study_id\"]) + \"/\" + str(row[\"dicom_id\"]) +\".jpg\"\n",
    "    path = f\"p{subject_id[:2]}/p{subject_id}/s{study_id}/{dicom_id}.jpg\"\n",
    "    return prefix + path"
   ]
  },
  {
   "cell_type": "markdown",
   "metadata": {},
   "source": [
    "# Create Dataset"
   ]
  },
  {
   "cell_type": "code",
   "execution_count": null,
   "metadata": {},
   "outputs": [],
   "source": [
    "# csv files \n",
    "split_csv = \"/opt/gpudata/mimic-cxr/mimic-cxr-2.0.0-split.csv\"\n",
    "metadata_csv = \"/opt/gpudata/mimic-cxr/mimic-cxr-2.0.0-metadata.csv\"\n",
    "true_label_csv = \"/opt/gpudata/mimic-cxr/mimic-cxr-2.0.0-chexpert.csv\"\n",
    "predicted_label_csv = \"/opt/gpudata/rrg-data-2/image-labels/pred_pr.csv\"\n",
    "report_csv = \"/opt/gpudata/mimic-cxr/mimic_cxr_sectioned.csv\"\n",
    "\n",
    "patient_id_col = DEFAULT_PATIENT_ID_COL\n",
    "study_id_col = DEFAULT_STUDY_ID_COL\n",
    "dicom_id_col = DEFAULT_DICOM_ID_COL\n",
    "split_col = DEFAULT_SPLIT_COL\n",
    "view_col = DEFAULT_VIEW_COL\n",
    "findings_col = DEFAULT_FINDINGS_COL\n",
    "impression_col = DEFAULT_IMPRESSION_COL\n",
    "labels = DEFAULT_LABELS\n",
    "view_order = DEFAULT_VIEW_ORDER\n",
    "split_remap = {\n",
    "        \"train\": \"retrieval\",\n",
    "        \"validate\": \"retrieval\",\n",
    "        \"test\": \"inference\",\n",
    "    }\n",
    "\n",
    "DEFAULT_OTHER_COL = \"Other\""
   ]
  },
  {
   "cell_type": "code",
   "execution_count": null,
   "metadata": {},
   "outputs": [],
   "source": [
    "mimic_cxr_section = pd.read_csv(report_csv) "
   ]
  },
  {
   "cell_type": "markdown",
   "metadata": {},
   "source": [
    "## findings"
   ]
  },
  {
   "cell_type": "code",
   "execution_count": null,
   "metadata": {},
   "outputs": [],
   "source": [
    "# Filter dataset to only those with given section type\n",
    "section_type = \"findings\"\n",
    "if section_type == \"findings\":\n",
    "    report_cols = [findings_col]\n",
    "elif section_type == \"impression\":\n",
    "    report_cols = [impression_col]\n",
    "elif section_type in [\"both\", \"findings-intersect\", \"impression-intersect\"]:\n",
    "    report_cols = [findings_col, impression_col]\n",
    "else:\n",
    "    raise ValueError(f\"Unknown section type: {section_type}\")\n",
    "\n",
    "retrieval_df = get_per_study_data(\n",
    "        split_csv=split_csv,\n",
    "        metadata_csv=metadata_csv,\n",
    "        label_csv=true_label_csv,\n",
    "        report_csv=report_csv,\n",
    "        patient_id_col=patient_id_col,\n",
    "        study_id_col=study_id_col,\n",
    "        dicom_id_col=dicom_id_col,\n",
    "        split_col=split_col,\n",
    "        view_col=view_col,\n",
    "        labels=labels,\n",
    "        view_order=view_order,\n",
    "        report_cols=[findings_col, impression_col],\n",
    "        split_remap=split_remap,\n",
    "    )\n",
    "\n",
    "inference_df = get_per_study_data(\n",
    "        split_csv=split_csv,\n",
    "        metadata_csv=metadata_csv,\n",
    "        label_csv=predicted_label_csv,\n",
    "        report_csv=report_csv,\n",
    "        patient_id_col=patient_id_col,\n",
    "        study_id_col=study_id_col,\n",
    "        dicom_id_col=dicom_id_col,\n",
    "        split_col=split_col,\n",
    "        view_col=view_col,\n",
    "        labels=labels,\n",
    "        view_order=view_order,\n",
    "        report_cols=report_cols,\n",
    "        split_remap=split_remap,\n",
    "    )"
   ]
  },
  {
   "cell_type": "code",
   "execution_count": null,
   "metadata": {},
   "outputs": [],
   "source": [
    "mask = retrieval_df[report_cols].notna().all(axis=1)\n",
    "retrieval_df = retrieval_df[mask].reset_index(drop=True).copy()\n",
    "inference_df = inference_df[mask].reset_index(drop=True).copy()\n",
    "add_other_label = True\n",
    "other_col = DEFAULT_OTHER_COL\n",
    "\n",
    "inference_samples = get_split_samples(\n",
    "        sample_df=inference_df,\n",
    "        split_col=split_col,\n",
    "    )[\"inference\"]"
   ]
  },
  {
   "cell_type": "code",
   "execution_count": null,
   "metadata": {},
   "outputs": [],
   "source": [
    "inference_samples[\"dicom_path\"] = inference_samples.apply(extract_image_path, axis=1)"
   ]
  },
  {
   "cell_type": "code",
   "execution_count": null,
   "metadata": {},
   "outputs": [],
   "source": [
    "inference_samples[\"study_id\"].nunique()"
   ]
  },
  {
   "cell_type": "code",
   "execution_count": null,
   "metadata": {},
   "outputs": [],
   "source": [
    "inference_samples[inference_samples[\"findings\"].isnull()]"
   ]
  },
  {
   "cell_type": "code",
   "execution_count": null,
   "metadata": {},
   "outputs": [],
   "source": [
    "# replace savepath if needed\n",
    "find_savepath = \"/opt/gpudata/rrg-data-2/inference-all/inference_findings_data.csv\"\n",
    "inference_samples[[\"dicom_path\", \"study_id\", \"dicom_id\", \"findings\"]].to_csv(find_savepath)"
   ]
  },
  {
   "cell_type": "markdown",
   "metadata": {},
   "source": [
    "## impression"
   ]
  },
  {
   "cell_type": "code",
   "execution_count": null,
   "metadata": {},
   "outputs": [],
   "source": [
    "# Filter dataset to only those with given section type\n",
    "section_type = \"impression\"\n",
    "if section_type == \"findings\":\n",
    "    report_cols = [findings_col]\n",
    "elif section_type == \"impression\":\n",
    "    report_cols = [impression_col]\n",
    "elif section_type in [\"both\", \"findings-intersect\", \"impression-intersect\"]:\n",
    "    report_cols = [findings_col, impression_col]\n",
    "else:\n",
    "    raise ValueError(f\"Unknown section type: {section_type}\")\n",
    "\n",
    "retrieval_df = get_per_study_data(\n",
    "        split_csv=split_csv,\n",
    "        metadata_csv=metadata_csv,\n",
    "        label_csv=true_label_csv,\n",
    "        report_csv=report_csv,\n",
    "        patient_id_col=patient_id_col,\n",
    "        study_id_col=study_id_col,\n",
    "        dicom_id_col=dicom_id_col,\n",
    "        split_col=split_col,\n",
    "        view_col=view_col,\n",
    "        labels=labels,\n",
    "        view_order=view_order,\n",
    "        report_cols=[findings_col, impression_col],\n",
    "        split_remap=split_remap,\n",
    "    )\n",
    "\n",
    "inference_df = get_per_study_data(\n",
    "        split_csv=split_csv,\n",
    "        metadata_csv=metadata_csv,\n",
    "        label_csv=predicted_label_csv,\n",
    "        report_csv=report_csv,\n",
    "        patient_id_col=patient_id_col,\n",
    "        study_id_col=study_id_col,\n",
    "        dicom_id_col=dicom_id_col,\n",
    "        split_col=split_col,\n",
    "        view_col=view_col,\n",
    "        labels=labels,\n",
    "        view_order=view_order,\n",
    "        report_cols=report_cols,\n",
    "        split_remap=split_remap,\n",
    "    )"
   ]
  },
  {
   "cell_type": "code",
   "execution_count": null,
   "metadata": {},
   "outputs": [],
   "source": [
    "mask = retrieval_df[report_cols].notna().all(axis=1)\n",
    "retrieval_df = retrieval_df[mask].reset_index(drop=True).copy()\n",
    "inference_df = inference_df[mask].reset_index(drop=True).copy()\n",
    "add_other_label = True\n",
    "\n",
    "inference_samples = get_split_samples(\n",
    "        sample_df=inference_df,\n",
    "        split_col=split_col,\n",
    "    )[\"inference\"]"
   ]
  },
  {
   "cell_type": "code",
   "execution_count": null,
   "metadata": {},
   "outputs": [],
   "source": [
    "inference_samples[\"dicom_path\"] = inference_samples.apply(extract_image_path, axis=1)"
   ]
  },
  {
   "cell_type": "code",
   "execution_count": null,
   "metadata": {},
   "outputs": [],
   "source": [
    "inference_samples[\"study_id\"].nunique()"
   ]
  },
  {
   "cell_type": "code",
   "execution_count": null,
   "metadata": {},
   "outputs": [],
   "source": [
    "inference_samples[inference_samples[\"impression\"].isnull()]"
   ]
  },
  {
   "cell_type": "code",
   "execution_count": null,
   "metadata": {},
   "outputs": [],
   "source": [
    "# replace savepath if needed\n",
    "inf_savepath = \"/opt/gpudata/rrg-data-2/inference-all/inference_impression_data.csv\"\n",
    "inference_samples[[\"dicom_path\", \"study_id\", \"dicom_id\", \"impression\"]].to_csv(inf_savepath)"
   ]
  },
  {
   "cell_type": "markdown",
   "metadata": {},
   "source": [
    "# Results"
   ]
  },
  {
   "cell_type": "code",
   "execution_count": null,
   "metadata": {},
   "outputs": [],
   "source": [
    "findings_df = pd.read_csv(\"/opt/gpudata/rrg-data-2/inference-all/inference_findings_data.csv\")\n",
    "impression_df = pd.read_csv(\"/opt/gpudata/rrg-data-2/inference-all/inference_impression_data.csv\")\n",
    "\n",
    "print(findings_df.head())\n",
    "print(impression_df.head())\n",
    "\n",
    "find_sids = findings_df[\"study_id\"].tolist()\n",
    "imp_sids = impression_df[\"study_id\"].tolist()"
   ]
  },
  {
   "cell_type": "code",
   "execution_count": null,
   "metadata": {},
   "outputs": [],
   "source": [
    "# paths for generations\n",
    "\n",
    "inference_results_path = \"/opt/gpudata/rrg-data-2/inference-all/inf-results/\""
   ]
  },
  {
   "cell_type": "markdown",
   "metadata": {},
   "source": [
    "## rgrg"
   ]
  },
  {
   "cell_type": "code",
   "execution_count": null,
   "metadata": {},
   "outputs": [],
   "source": [
    "# rgrg_results = pd.read_csv(\"/opt/gpudata/rrg-data-2/inference-all/inf-results/rgrg/generations_findings.csv\")\n",
    "rgrg_filename = \"rgrg/generations_findings.csv\"\n",
    "rgrg_results = pd.read_csv(os.path.join(inference_results_path, rgrg_filename))\n",
    "assert set(rgrg_results.study_id.tolist()) == set(find_sids)"
   ]
  },
  {
   "cell_type": "markdown",
   "metadata": {},
   "source": [
    "## cxrmate"
   ]
  },
  {
   "cell_type": "code",
   "execution_count": null,
   "metadata": {},
   "outputs": [],
   "source": [
    "cxrmate_results = pd.read_csv(os.path.join(inference_results_path, \"cxr-mate/generations.csv\"))\n",
    "# cxrmate_results = pd.read_csv(\"/opt/gpudata/rrg-data-2/inference-all/inf-results/cxr-mate/generations.csv\")\n",
    "cxrmate_findings = cxrmate_results[cxrmate_results[\"study_id\"].isin(find_sids)][[\"study_id\", \"findings\"]]\n",
    "\n",
    "assert set(cxrmate_findings[\"study_id\"]) == set(find_sids)\n",
    "assert any(cxrmate_findings[\"findings\"].notnull())\n",
    "\n",
    "cxrmate_impression = cxrmate_results[cxrmate_results[\"study_id\"].isin(imp_sids)][[\"study_id\", \"impression\"]]\n",
    "\n",
    "assert set(cxrmate_impression.study_id) == set(imp_sids)\n",
    "assert any(cxrmate_impression[\"impression\"].notnull())\n",
    "\n",
    "cxrmate_both = pd.DataFrame.merge(cxrmate_findings, cxrmate_impression, on=\"study_id\")\n",
    "assert set(cxrmate_both.study_id) == set(set(find_sids).intersection(set(imp_sids)))\n",
    "\n",
    "# findings\n",
    "cxrmate_findings_final = cxrmate_findings.merge(findings_df, on=\"study_id\")\n",
    "cxrmate_findings_final.rename(columns={\"findings_x\" : \"generated_text\", \"findings_y\" : \"actual_text\"}, inplace=True)\n",
    "# cxrmate_findings_final[[\"dicom_id\", \"study_id\", \"actual_text\", \"generated_text\"]].to_csv(\"/opt/gpudata/rrg-data-2/inference-all/inf-results/cxr-mate/generations_findings.csv\")\n",
    "cxrmate_findings_final[[\"dicom_id\", \"study_id\", \"actual_text\", \"generated_text\"]].to_csv(os.path.join(inference_results_path, \"cxr-mate/generations_findings.csv\"))\n",
    "\n",
    "\n",
    "# impression\n",
    "cxrmate_impression_final = cxrmate_impression.merge(impression_df, on=\"study_id\")\n",
    "cxrmate_impression_final.rename(columns={\"impression_x\" : \"generated_text\", \"impression_y\" : \"actual_text\"}, inplace=True)\n",
    "# cxrmate_impression_final[[\"dicom_id\", \"study_id\", \"actual_text\", \"generated_text\"]].to_csv(\"/opt/gpudata/rrg-data-2/inference-all/inf-results/cxr-mate/generations_impression.csv\")\n",
    "cxrmate_impression_final[[\"dicom_id\", \"study_id\", \"actual_text\", \"generated_text\"]].to_csv(os.path.join(inference_results_path, \"cxr-mate/generations_impression.csv\"))\n",
    "\n",
    "\n",
    "# both\n",
    "def create_actual_report(row):\n",
    "    return f\"Findings:\\n{row['findings']}\\nImpression:\\n{row['impression']}\"\n",
    "\n",
    "def create_generated_report(row):\n",
    "    return f\"Findings:\\n{row['findings']}\\nImpression:\\n{row['impression']}\"\n",
    "\n",
    "full_reports_actual = pd.merge(findings_df, impression_df, on=\"study_id\")\n",
    "full_reports_actual[\"actual_text\"] = full_reports_actual.apply(create_actual_report, axis=1)\n",
    "\n",
    "# findings and impression\n",
    "cxrmate_both[\"generated_text\"] = cxrmate_both.apply(create_generated_report, axis=1)\n",
    "cxrmate_both_final = cxrmate_both.merge(full_reports_actual[[\"study_id\", \"actual_text\"]], on=\"study_id\")\n",
    "# cxrmate_both_final[[\"study_id\", \"actual_text\", \"generated_text\"]].to_csv(\"/opt/gpudata/rrg-data-2/inference-all/inf-results/cxr-mate/generations_full_reports.csv\")\n",
    "cxrmate_both_final[[\"study_id\", \"actual_text\", \"generated_text\"]].to_csv(os.path.join(inference_results_path, \"cxr-mate/generations_full_reports.csv\"))"
   ]
  },
  {
   "cell_type": "markdown",
   "metadata": {},
   "source": [
    "## chexagent"
   ]
  },
  {
   "cell_type": "code",
   "execution_count": null,
   "metadata": {},
   "outputs": [],
   "source": [
    "# chexagent_results = pd.read_csv(\"/opt/gpudata/rrg-data-2/inference-all/inf-results/chexagent/generations.csv\")\n",
    "chexagent_results = pd.read_csv(os.path.join(inference_results_path, \"chexagent/generations.csv\"))\n",
    "chexagent_findings = chexagent_results[chexagent_results[\"study_id\"].isin(find_sids)][[\"study_id\", \"findings\"]]\n",
    "chexagent_impression = chexagent_results[chexagent_results[\"study_id\"].isin(imp_sids)][[\"study_id\", \"impression\"]]\n",
    "chexagent_both = pd.DataFrame.merge(chexagent_findings, chexagent_impression, on=\"study_id\")\n",
    "\n",
    "# findings\n",
    "\n",
    "chexagent_findings_final = chexagent_findings.merge(findings_df, on=\"study_id\")\n",
    "chexagent_findings_final.rename(columns={\"findings_x\" : \"generated_text\", \"findings_y\" : \"actual_text\"}, inplace=True)\n",
    "chexagent_findings_final[[\"dicom_id\", \"study_id\", \"actual_text\", \"generated_text\"]].to_csv(\"/opt/gpudata/rrg-data-2/inference-all/inf-results/chexagent/generations_findings.csv\")\n",
    "chexagent_findings_final[[\"dicom_id\", \"study_id\", \"actual_text\", \"generated_text\"]].to_csv(os.path.join(inference_results_path, \"chexagent/generations_findings.csv\"))\n",
    "\n",
    "# impression\n",
    "\n",
    "chexagent_impression_final = chexagent_impression.merge(impression_df, on=\"study_id\")\n",
    "chexagent_impression_final.rename(columns={\"impression_x\" : \"generated_text\", \"impression_y\" : \"actual_text\"}, inplace=True)\n",
    "# chexagent_impression_final[[\"dicom_id\", \"study_id\", \"actual_text\", \"generated_text\"]].to_csv(\"/opt/gpudata/rrg-data-2/inference-all/inf-results/chexagent/generations_impression.csv\")\n",
    "chexagent_impression_final[[\"dicom_id\", \"study_id\", \"actual_text\", \"generated_text\"]].to_csv(os.path.join(inference_results_path, \"chexagent/generations_impression.csv\"))\n",
    "\n",
    "# both\n",
    "\n",
    "def create_actual_report(row):\n",
    "    return f\"Findings:\\n{row['findings']}\\nImpression:\\n{row['impression']}\"\n",
    "\n",
    "def create_generated_report(row):\n",
    "    return f\"Findings:\\n{row['findings']}\\nImpression:\\n{row['impression']}\"\n",
    "\n",
    "full_reports_actual = pd.merge(findings_df, impression_df, on=\"study_id\")\n",
    "full_reports_actual[\"actual_text\"] = full_reports_actual.apply(create_actual_report, axis=1)\n",
    "\n",
    "# findings and impression\n",
    "chexagent_both[\"generated_text\"] = chexagent_both.apply(create_generated_report, axis=1)\n",
    "chexagent_both_final = chexagent_both.merge(full_reports_actual[[\"study_id\", \"actual_text\"]], on=\"study_id\")\n",
    "# chexagent_both_final[[\"study_id\", \"actual_text\", \"generated_text\"]].to_csv(\"/opt/gpudata/rrg-data-2/inference-all/inf-results/chexagent/generations_full_reports.csv\")\n",
    "chexagent_both_final[[\"study_id\", \"actual_text\", \"generated_text\"]].to_csv(os.path.join(inference_results_path, \"chexagent/generations_full_reports.csv\"))\n"
   ]
  },
  {
   "cell_type": "markdown",
   "metadata": {},
   "source": [
    "## cxr-repair"
   ]
  },
  {
   "cell_type": "code",
   "execution_count": null,
   "metadata": {},
   "outputs": [],
   "source": [
    "# cxr_repair_generations = pd.read_csv(\"/opt/gpudata/rrg-data-2/inference-all/inf-results/cxr-repair/generations_full.csv\")\n",
    "cxr_repair_generations = pd.read_csv(os.path.join(inference_path_results, \"cxr-repair/generations_full.csv\"))\n",
    "\n",
    "# filter and add actual text from impression\n",
    "cxr_repair_gen_final = cxr_repair_generations.merge(impression_df, on=\"study_id\")\n",
    "cxr_repair_gen_final = cxr_repair_gen_final.drop_duplicates(\"study_id\").rename(columns={\"impression\" : \"actual_text\"})\n",
    "# cxr_repair_gen_final[[\"dicom_id\", \"study_id\", \"actual_text\", \"generated_text\"]].to_csv(\"/opt/gpudata/rrg-data-2/inference-all/inf-results/cxr-repair/generations_impression.csv\")\n",
    "cxr_repair_gen_final[[\"dicom_id\", \"study_id\", \"actual_text\", \"generated_text\"]].to_csv(os.path.join(inference_results_path, \"cxr-repair/generations_impression.csv\"))"
   ]
  },
  {
   "cell_type": "markdown",
   "metadata": {},
   "source": [
    "## cxr-redone"
   ]
  },
  {
   "cell_type": "code",
   "execution_count": null,
   "metadata": {},
   "outputs": [],
   "source": [
    "# cxr_redone_results = pd.read_csv(\"/opt/gpudata/rrg-data-2/inference-all/inf-results/cxr-redone/generations.csv\")\n",
    "cxr_redone_results = pd.read_csv(os.path.join(inference_results_path, \"cxr-redone/generations.csv\"))\n",
    "\n",
    "# xrem_sids = pd.read_csv(\"/opt/gpudata/rrg-data-2/inference-all/inf-temp/x-rem/xrem_sids.csv\")\n",
    "xrem_sids = pd.read_csv(os.path.join(inference_results_path, \"x-rem/xrem_sids.csv\"))\n",
    "cxr_redone_results = cxr_redone_results.merge(xrem_sids, left_index=True, right_index=True, how=\"inner\")\n",
    "cxr_redone_final = cxr_redone_results.merge(impression_df, on=\"study_id\")\n",
    "cxr_redone_final = cxr_redone_final.drop_duplicates(\"study_id\").rename(\n",
    "    columns={\n",
    "        \"impression\" : \"actual_text\",\n",
    "        \"Report Impression\": \"generated_text\"\n",
    "    })\n",
    "# cxr_redone_final[[\"dicom_id\", \"study_id\", \"actual_text\", \"generated_text\"]].to_csv(\"/opt/gpudata/rrg-data-2/inference-all/inf-results/cxr-redone/generations_impression.csv\")\n",
    "cxr_redone_final[[\"dicom_id\", \"study_id\", \"actual_text\", \"generated_text\"]].to_csv(os.path.join(inference_results_path, \"cxr-redone/generations_impression.csv\"))\n",
    "\n"
   ]
  },
  {
   "cell_type": "markdown",
   "metadata": {},
   "source": [
    "## xrem"
   ]
  },
  {
   "cell_type": "code",
   "execution_count": null,
   "metadata": {},
   "outputs": [],
   "source": [
    "# xrem_results = pd.read_csv(\"/opt/gpudata/rrg-data-2/inference-all/inf-results/x-rem/final_results_filtered.csv\")\n",
    "# xrem_sids = pd.read_csv(\"/opt/gpudata/rrg-data-2/inference-all/inf-temp/x-rem/xrem_sids.csv\")\n",
    "xrem_results = pd.read_csv(os.path.join(inference_results_path, \"x-rem/final_results_filtered.csv\"))\n",
    "xrem_sids = pd.read_csv(os.path.join(inference_results_path, \"x-rem/xrem_sids.csv\"))\n",
    "xrem_results_all = xrem_results.merge(xrem_sids, left_index=True, right_index=True, how=\"inner\")\n",
    "xrem_results_all = xrem_results_all.merge(impression_df, on=\"study_id\")\n",
    "xrem_results_all = xrem_results_all.drop_duplicates(\"study_id\")\n",
    "# xrem_results_all[[\"dicom_id\", \"study_id\", \"impression\", \"Report Impression\"]].rename(\n",
    "#     columns={\n",
    "#         \"impression\" : \"actual_text\",\n",
    "#         \"Report Impression\" : \"generated_text\"\n",
    "#     }).to_csv(\"/opt/gpudata/rrg-data-2/inference-all/inf-results/x-rem/generations_impression.csv\")\n",
    "xrem_results_all[[\"dicom_id\", \"study_id\", \"impression\", \"Report Impression\"]].rename(\n",
    "    columns={\n",
    "        \"impression\" : \"actual_text\",\n",
    "        \"Report Impression\" : \"generated_text\"\n",
    "    }).to_csv(os.path.join(inference_results_path, \"x-rem/generations_impression.csv\"))"
   ]
  },
  {
   "cell_type": "markdown",
   "metadata": {},
   "source": [
    "# Create inference results"
   ]
  },
  {
   "cell_type": "code",
   "execution_count": null,
   "metadata": {},
   "outputs": [],
   "source": [
    "def extract_exp_info(experiment):\n",
    "    tabs = experiment.split(\"_\")\n",
    "    return {\n",
    "         \"section\" : \"_\".join(tabs[1:-1])\n",
    "    }\n",
    "\n",
    "# extract_exp_info(\"generations_full_reports_METRICS.csv\")\n",
    "# extract_exp_info(\"generations_findings_METRICS.csv\")\n",
    "\n",
    "# our results\n",
    "def extract_results(df):\n",
    "    results = {}\n",
    "    results[\"run\"] = \"\"\n",
    "    results[\"BLEU4\"] = df[\"bleu4\"].mean() * 100.0\n",
    "    results[\"RougeL\"]= df[\"rougeL\"].mean() * 100.0\n",
    "    results[\"BertScore\"] = df[\"bertscore\"].mean() * 100.0\n",
    "    results[\"f1-RadGraph\"] = df[\"f1radgraph\"].mean() * 100.0\n",
    "    results[\"f1-CheXbert\"] = df[\"f1chexbert\"].mean() * 100.0\n",
    "    return results"
   ]
  },
  {
   "cell_type": "code",
   "execution_count": null,
   "metadata": {},
   "outputs": [],
   "source": [
    "results_dir = \"/opt/gpudata/rrg-data-2/inference-all/inf-results/\"\n",
    "all_results = {\n",
    "    \"findings\" : [],\n",
    "    \"impression\" : [],\n",
    "    \"both\" : [],\n",
    "}\n",
    "\n",
    "for foldername in os.listdir(results_dir):\n",
    "    print(foldername)\n",
    "    folderpath = os.path.join(results_dir, foldername)\n",
    "    if os.path.isdir(folderpath):\n",
    "        for filename in os.listdir(folderpath):\n",
    "            if \"METRICS\" in filename:\n",
    "                res = extract_exp_info(filename)\n",
    "                filepath = os.path.join(results_dir, os.path.join(foldername, filename))\n",
    "                df = pd.read_csv(filepath)\n",
    "\n",
    "                # aggregate results\n",
    "                results = {}\n",
    "                # run_name = f\"{foldername}_{res['section']}\"\n",
    "                run_name = f\"{foldername}\"\n",
    "                results[\"run\"] = run_name\n",
    "                results[\"BLEU4\"] = df[\"bleu4\"].mean() * 100.0\n",
    "                results[\"RougeL\"]= df[\"rougeL\"].mean() * 100.0\n",
    "                results[\"BertScore\"] = df[\"bertscore\"].mean() * 100.0\n",
    "                results[\"f1-RadGraph\"] = df[\"f1radgraph\"].mean() * 100.0\n",
    "                results[\"f1-CheXbert\"] = df[\"f1chexbert\"].mean() * 100.0\n",
    "\n",
    "                if \"findings\" in filename:\n",
    "                    all_results[\"findings\"].append(results)\n",
    "                elif \"impression\" in filename:\n",
    "                    all_results[\"impression\"].append(results)\n",
    "                else:\n",
    "                    all_results[\"both\"].append(results)"
   ]
  },
  {
   "cell_type": "markdown",
   "metadata": {},
   "source": [
    "### findings"
   ]
  },
  {
   "cell_type": "code",
   "execution_count": null,
   "metadata": {},
   "outputs": [],
   "source": [
    "# findings\n",
    "findings_best = pd.read_csv(\"/opt/gpudata/rrg-data-2/exp-findings/exp-model/Mistral-7B-Instruct-v0.3_exact_pred-label_simple_top-5_findings_METRICS.csv\")\n",
    "findings_result = extract_results(findings_best)\n",
    "findings_result[\"run\"] = \"lab-rag\"\n",
    "pd.DataFrame(findings_result, index=[0])"
   ]
  },
  {
   "cell_type": "code",
   "execution_count": null,
   "metadata": {},
   "outputs": [],
   "source": [
    "pd.DataFrame.from_dict(all_results[\"findings\"])"
   ]
  },
  {
   "cell_type": "code",
   "execution_count": null,
   "metadata": {},
   "outputs": [],
   "source": [
    "# final table\n",
    "findings_df = pd.DataFrame.from_dict(all_results[\"findings\"])\n",
    "findings_df.loc[-1] = findings_result\n",
    "findings_df.reset_index(drop=True)"
   ]
  },
  {
   "cell_type": "markdown",
   "metadata": {},
   "source": [
    "### impression"
   ]
  },
  {
   "cell_type": "code",
   "execution_count": null,
   "metadata": {},
   "outputs": [],
   "source": [
    "# impression\n",
    "impression_best = pd.read_csv(\"/opt/gpudata/rrg-data-2/exp-impression/exp-model/Mistral-7B-Instruct-v0.3_exact_pred-label_simple_top-5_impression_METRICS.csv\")\n",
    "impression_result = extract_results(impression_best)\n",
    "impression_result[\"run\"] = \"lab-rag\"\n",
    "pd.DataFrame(impression_result, index=[0])"
   ]
  },
  {
   "cell_type": "code",
   "execution_count": null,
   "metadata": {},
   "outputs": [],
   "source": [
    "pd.DataFrame.from_dict(all_results[\"impression\"])"
   ]
  },
  {
   "cell_type": "code",
   "execution_count": null,
   "metadata": {},
   "outputs": [],
   "source": [
    "# final table\n",
    "impression_df = pd.DataFrame.from_dict(all_results[\"impression\"])\n",
    "impression_df.loc[-1] = impression_result\n",
    "impression_df.reset_index(drop=True)"
   ]
  },
  {
   "cell_type": "markdown",
   "metadata": {},
   "source": [
    "### both"
   ]
  },
  {
   "cell_type": "code",
   "execution_count": null,
   "metadata": {},
   "outputs": [],
   "source": [
    "#both \n",
    "both_best = pd.read_csv(\"/opt/gpudata/rrg-data-2/exp-section/Mistral-7B-Instruct-v0.3_exact_pred-label_simple_top-5_both_METRICS.csv\")\n",
    "both_result = extract_results(both_best)\n",
    "both_result[\"run\"] = \"lab-rag\"\n",
    "pd.DataFrame(both_result, index=[0])"
   ]
  },
  {
   "cell_type": "code",
   "execution_count": null,
   "metadata": {},
   "outputs": [],
   "source": [
    "pd.DataFrame.from_dict(all_results[\"both\"])"
   ]
  },
  {
   "cell_type": "code",
   "execution_count": null,
   "metadata": {},
   "outputs": [],
   "source": [
    "# final table\n",
    "\n",
    "both_df = pd.DataFrame.from_dict(all_results[\"both\"])\n",
    "both_df.loc[-1] = both_result\n",
    "both_df.reset_index(drop=True)"
   ]
  }
 ],
 "metadata": {
  "kernelspec": {
   "display_name": "Python 3 (ipykernel)",
   "language": "python",
   "name": "python3"
  },
  "language_info": {
   "codemirror_mode": {
    "name": "ipython",
    "version": 3
   },
   "file_extension": ".py",
   "mimetype": "text/x-python",
   "name": "python",
   "nbconvert_exporter": "python",
   "pygments_lexer": "ipython3",
   "version": "3.10.13"
  }
 },
 "nbformat": 4,
 "nbformat_minor": 4
}
