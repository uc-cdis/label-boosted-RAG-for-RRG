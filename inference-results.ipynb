{
 "cells": [
  {
   "cell_type": "markdown",
   "metadata": {},
   "source": [
    "# Setup"
   ]
  },
  {
   "cell_type": "code",
   "execution_count": null,
   "metadata": {},
   "outputs": [],
   "source": [
    "import os\n",
    "import pandas as pd\n",
    "\n",
    "from rrg._data import (\n",
    "    DEFAULT_DICOM_ID_COL,\n",
    "    DEFAULT_FINDINGS_COL,\n",
    "    DEFAULT_IMG_PROJ_KEY,\n",
    "    DEFAULT_IMPRESSION_COL,\n",
    "    DEFAULT_LABELS,\n",
    "    DEFAULT_PATIENT_ID_COL,\n",
    "    DEFAULT_SPLIT_COL,\n",
    "    DEFAULT_STUDY_ID_COL,\n",
    "    DEFAULT_VIEW_COL,\n",
    "    DEFAULT_VIEW_ORDER,\n",
    "    get_per_study_data,\n",
    "    get_split_features,\n",
    "    get_split_samples,\n",
    ")\n",
    "\n",
    "\n",
    "# helper functions\n",
    "def extract_image_path(row):\n",
    "    prefix = \"/opt/gpudata/mimic-cxr/files/\"\n",
    "    subject_id = str(row[\"subject_id\"])\n",
    "    study_id = str(row[\"study_id\"])\n",
    "    dicom_id = str(row[\"dicom_id\"])\n",
    "    # path = \"p\" + str(row[\"subject_id\"])[:2] + \"/p\" + str(row[\"subject_id\"]) + \"/s\" + str(row[\"study_id\"]) + \"/\" + str(row[\"dicom_id\"]) +\".jpg\"\n",
    "    path = f\"p{subject_id[:2]}/p{subject_id}/s{study_id}/{dicom_id}.jpg\"\n",
    "    return prefix + path"
   ]
  },
  {
   "cell_type": "markdown",
   "metadata": {},
   "source": [
    "# Create Dataset"
   ]
  },
  {
   "cell_type": "code",
   "execution_count": null,
   "metadata": {},
   "outputs": [],
   "source": [
    "# csv files \n",
    "split_csv = \"/opt/gpudata/mimic-cxr/mimic-cxr-2.0.0-split.csv\"\n",
    "metadata_csv = \"/opt/gpudata/mimic-cxr/mimic-cxr-2.0.0-metadata.csv\"\n",
    "true_label_csv = \"/opt/gpudata/mimic-cxr/mimic-cxr-2.0.0-chexpert.csv\"\n",
    "predicted_label_csv = \"/opt/gpudata/rrg-data-2/image-labels/pred_pr.csv\"\n",
    "report_csv = \"/opt/gpudata/mimic-cxr/mimic_cxr_sectioned.csv\"\n",
    "\n",
    "patient_id_col = DEFAULT_PATIENT_ID_COL\n",
    "study_id_col = DEFAULT_STUDY_ID_COL\n",
    "dicom_id_col = DEFAULT_DICOM_ID_COL\n",
    "split_col = DEFAULT_SPLIT_COL\n",
    "view_col = DEFAULT_VIEW_COL\n",
    "findings_col = DEFAULT_FINDINGS_COL\n",
    "impression_col = DEFAULT_IMPRESSION_COL\n",
    "labels = DEFAULT_LABELS\n",
    "view_order = DEFAULT_VIEW_ORDER\n",
    "split_remap = {\n",
    "        \"train\": \"retrieval\",\n",
    "        \"validate\": \"retrieval\",\n",
    "        \"test\": \"inference\",\n",
    "    }\n",
    "\n",
    "DEFAULT_OTHER_COL = \"Other\""
   ]
  },
  {
   "cell_type": "code",
   "execution_count": null,
   "metadata": {},
   "outputs": [],
   "source": [
    "mimic_cxr_section = pd.read_csv(report_csv) "
   ]
  },
  {
   "cell_type": "markdown",
   "metadata": {},
   "source": [
    "## findings"
   ]
  },
  {
   "cell_type": "code",
   "execution_count": null,
   "metadata": {},
   "outputs": [],
   "source": [
    "# Filter dataset to only those with given section type\n",
    "section_type = \"findings\"\n",
    "if section_type == \"findings\":\n",
    "    report_cols = [findings_col]\n",
    "elif section_type == \"impression\":\n",
    "    report_cols = [impression_col]\n",
    "elif section_type in [\"both\", \"findings-intersect\", \"impression-intersect\"]:\n",
    "    report_cols = [findings_col, impression_col]\n",
    "else:\n",
    "    raise ValueError(f\"Unknown section type: {section_type}\")\n",
    "\n",
    "retrieval_df = get_per_study_data(\n",
    "        split_csv=split_csv,\n",
    "        metadata_csv=metadata_csv,\n",
    "        label_csv=true_label_csv,\n",
    "        report_csv=report_csv,\n",
    "        patient_id_col=patient_id_col,\n",
    "        study_id_col=study_id_col,\n",
    "        dicom_id_col=dicom_id_col,\n",
    "        split_col=split_col,\n",
    "        view_col=view_col,\n",
    "        labels=labels,\n",
    "        view_order=view_order,\n",
    "        report_cols=[findings_col, impression_col],\n",
    "        split_remap=split_remap,\n",
    "    )\n",
    "\n",
    "inference_df = get_per_study_data(\n",
    "        split_csv=split_csv,\n",
    "        metadata_csv=metadata_csv,\n",
    "        label_csv=predicted_label_csv,\n",
    "        report_csv=report_csv,\n",
    "        patient_id_col=patient_id_col,\n",
    "        study_id_col=study_id_col,\n",
    "        dicom_id_col=dicom_id_col,\n",
    "        split_col=split_col,\n",
    "        view_col=view_col,\n",
    "        labels=labels,\n",
    "        view_order=view_order,\n",
    "        report_cols=report_cols,\n",
    "        split_remap=split_remap,\n",
    "    )"
   ]
  },
  {
   "cell_type": "code",
   "execution_count": null,
   "metadata": {},
   "outputs": [],
   "source": [
    "mask = retrieval_df[report_cols].notna().all(axis=1)\n",
    "retrieval_df = retrieval_df[mask].reset_index(drop=True).copy()\n",
    "inference_df = inference_df[mask].reset_index(drop=True).copy()\n",
    "add_other_label = True\n",
    "other_col = DEFAULT_OTHER_COL\n",
    "\n",
    "inference_samples = get_split_samples(\n",
    "        sample_df=inference_df,\n",
    "        split_col=split_col,\n",
    "    )[\"inference\"]"
   ]
  },
  {
   "cell_type": "code",
   "execution_count": null,
   "metadata": {},
   "outputs": [],
   "source": [
    "inference_samples[\"dicom_path\"] = inference_samples.apply(extract_image_path, axis=1)"
   ]
  },
  {
   "cell_type": "code",
   "execution_count": null,
   "metadata": {},
   "outputs": [],
   "source": [
    "inference_samples[\"study_id\"].nunique()"
   ]
  },
  {
   "cell_type": "code",
   "execution_count": null,
   "metadata": {},
   "outputs": [],
   "source": [
    "inference_samples[inference_samples[\"findings\"].isnull()]"
   ]
  },
  {
   "cell_type": "code",
   "execution_count": null,
   "metadata": {},
   "outputs": [],
   "source": [
    "# replace savepath if needed\n",
    "find_savepath = \"/opt/gpudata/rrg-data-2/inference-all/inference_findings_data.csv\"\n",
    "inference_samples[[\"dicom_path\", \"study_id\", \"dicom_id\", \"findings\"]].to_csv(find_savepath)"
   ]
  },
  {
   "cell_type": "markdown",
   "metadata": {},
   "source": [
    "## impression"
   ]
  },
  {
   "cell_type": "code",
   "execution_count": null,
   "metadata": {},
   "outputs": [],
   "source": [
    "# Filter dataset to only those with given section type\n",
    "section_type = \"impression\"\n",
    "if section_type == \"findings\":\n",
    "    report_cols = [findings_col]\n",
    "elif section_type == \"impression\":\n",
    "    report_cols = [impression_col]\n",
    "elif section_type in [\"both\", \"findings-intersect\", \"impression-intersect\"]:\n",
    "    report_cols = [findings_col, impression_col]\n",
    "else:\n",
    "    raise ValueError(f\"Unknown section type: {section_type}\")\n",
    "\n",
    "retrieval_df = get_per_study_data(\n",
    "        split_csv=split_csv,\n",
    "        metadata_csv=metadata_csv,\n",
    "        label_csv=true_label_csv,\n",
    "        report_csv=report_csv,\n",
    "        patient_id_col=patient_id_col,\n",
    "        study_id_col=study_id_col,\n",
    "        dicom_id_col=dicom_id_col,\n",
    "        split_col=split_col,\n",
    "        view_col=view_col,\n",
    "        labels=labels,\n",
    "        view_order=view_order,\n",
    "        report_cols=[findings_col, impression_col],\n",
    "        split_remap=split_remap,\n",
    "    )\n",
    "\n",
    "inference_df = get_per_study_data(\n",
    "        split_csv=split_csv,\n",
    "        metadata_csv=metadata_csv,\n",
    "        label_csv=predicted_label_csv,\n",
    "        report_csv=report_csv,\n",
    "        patient_id_col=patient_id_col,\n",
    "        study_id_col=study_id_col,\n",
    "        dicom_id_col=dicom_id_col,\n",
    "        split_col=split_col,\n",
    "        view_col=view_col,\n",
    "        labels=labels,\n",
    "        view_order=view_order,\n",
    "        report_cols=report_cols,\n",
    "        split_remap=split_remap,\n",
    "    )"
   ]
  },
  {
   "cell_type": "code",
   "execution_count": null,
   "metadata": {},
   "outputs": [],
   "source": [
    "mask = retrieval_df[report_cols].notna().all(axis=1)\n",
    "retrieval_df = retrieval_df[mask].reset_index(drop=True).copy()\n",
    "inference_df = inference_df[mask].reset_index(drop=True).copy()\n",
    "add_other_label = True\n",
    "\n",
    "inference_samples = get_split_samples(\n",
    "        sample_df=inference_df,\n",
    "        split_col=split_col,\n",
    "    )[\"inference\"]"
   ]
  },
  {
   "cell_type": "code",
   "execution_count": null,
   "metadata": {},
   "outputs": [],
   "source": [
    "inference_samples[\"dicom_path\"] = inference_samples.apply(extract_image_path, axis=1)"
   ]
  },
  {
   "cell_type": "code",
   "execution_count": null,
   "metadata": {},
   "outputs": [],
   "source": [
    "inference_samples[\"study_id\"].nunique()"
   ]
  },
  {
   "cell_type": "code",
   "execution_count": null,
   "metadata": {},
   "outputs": [],
   "source": [
    "inference_samples[inference_samples[\"impression\"].isnull()]"
   ]
  },
  {
   "cell_type": "code",
   "execution_count": null,
   "metadata": {},
   "outputs": [],
   "source": [
    "# replace savepath if needed\n",
    "inf_savepath = \"/opt/gpudata/rrg-data-2/inference-all/inference_impression_data.csv\"\n",
    "inference_samples[[\"dicom_path\", \"study_id\", \"dicom_id\", \"impression\"]].to_csv(inf_savepath)"
   ]
  },
  {
   "cell_type": "markdown",
   "metadata": {},
   "source": [
    "# Results"
   ]
  },
  {
   "cell_type": "code",
   "execution_count": null,
   "metadata": {},
   "outputs": [],
   "source": [
    "findings_df = pd.read_csv(\"/opt/gpudata/rrg-data-2/inference-all/inference_findings_data.csv\")\n",
    "impression_df = pd.read_csv(\"/opt/gpudata/rrg-data-2/inference-all/inference_impression_data.csv\")\n",
    "\n",
    "print(findings_df.head())\n",
    "print(impression_df.head())\n",
    "\n",
    "find_sids = findings_df[\"study_id\"].tolist()\n",
    "imp_sids = impression_df[\"study_id\"].tolist()"
   ]
  },
  {
   "cell_type": "markdown",
   "metadata": {},
   "source": [
    "## rgrg"
   ]
  },
  {
   "cell_type": "code",
   "execution_count": null,
   "metadata": {},
   "outputs": [],
   "source": [
    "rgrg_results = pd.read_csv(\"/opt/gpudata/rrg-data-2/inference-all/inf-results/rgrg/generations_findings.csv\")\n",
    "assert set(rgrg_results.study_id.tolist()) == set(find_sids)"
   ]
  },
  {
   "cell_type": "markdown",
   "metadata": {},
   "source": [
    "## cxrmate"
   ]
  },
  {
   "cell_type": "code",
   "execution_count": null,
   "metadata": {},
   "outputs": [],
   "source": [
    "cxrmate_results = pd.read_csv(\"/opt/gpudata/rrg-data-2/inference-all/inf-results/cxr-mate/generations.csv\")\n",
    "cxrmate_findings = cxrmate_results[cxrmate_results[\"study_id\"].isin(find_sids)][[\"study_id\", \"findings\"]]\n",
    "\n",
    "assert set(cxrmate_findings[\"study_id\"]) == set(find_sids)\n",
    "assert any(cxrmate_findings[\"findings\"].notnull())\n",
    "\n",
    "cxrmate_impression = cxrmate_results[cxrmate_results[\"study_id\"].isin(imp_sids)][[\"study_id\", \"impression\"]]\n",
    "\n",
    "assert set(cxrmate_impression.study_id) == set(imp_sids)\n",
    "assert any(cxrmate_impression[\"impression\"].notnull())\n",
    "\n",
    "cxrmate_both = pd.DataFrame.merge(cxrmate_findings, cxrmate_impression, on=\"study_id\")\n",
    "assert set(cxrmate_both.study_id) == set(set(find_sids).intersection(set(imp_sids)))\n",
    "\n",
    "# findings\n",
    "cxrmate_findings_final = cxrmate_findings.merge(findings_df, on=\"study_id\")\n",
    "cxrmate_findings_final.rename(columns={\"findings_x\" : \"generated_text\", \"findings_y\" : \"actual_text\"}, inplace=True)\n",
    "cxrmate_findings_final[[\"dicom_id\", \"study_id\", \"actual_text\", \"generated_text\"]].to_csv(\"/opt/gpudata/rrg-data-2/inference-all/inf-results/cxr-mate/generations_findings.csv\")\n",
    "\n",
    "# impression\n",
    "cxrmate_impression_final = cxrmate_impression.merge(impression_df, on=\"study_id\")\n",
    "cxrmate_impression_final.rename(columns={\"impression_x\" : \"generated_text\", \"impression_y\" : \"actual_text\"}, inplace=True)\n",
    "cxrmate_impression_final[[\"dicom_id\", \"study_id\", \"actual_text\", \"generated_text\"]].to_csv(\"/opt/gpudata/rrg-data-2/inference-all/inf-results/cxr-mate/generations_impression.csv\")\n",
    "\n",
    "# both\n",
    "def create_actual_report(row):\n",
    "    return f\"Findings:\\n{row['findings']}\\nImpression:\\n{row['impression']}\"\n",
    "\n",
    "def create_generated_report(row):\n",
    "    return f\"Findings:\\n{row['findings']}\\nImpression:\\n{row['impression']}\"\n",
    "\n",
    "full_reports_actual = pd.merge(findings_df, impression_df, on=\"study_id\")\n",
    "full_reports_actual[\"actual_text\"] = full_reports_actual.apply(create_actual_report, axis=1)\n",
    "\n",
    "# findings and impression\n",
    "cxrmate_both[\"generated_text\"] = cxrmate_both.apply(create_generated_report, axis=1)\n",
    "cxrmate_both_final = cxrmate_both.merge(full_reports_actual[[\"study_id\", \"actual_text\"]], on=\"study_id\")\n",
    "cxrmate_both_final[[\"study_id\", \"actual_text\", \"generated_text\"]].to_csv(\"/opt/gpudata/rrg-data-2/inference-all/inf-results/cxr-mate/generations_full_reports.csv\")"
   ]
  },
  {
   "cell_type": "markdown",
   "metadata": {},
   "source": [
    "## chexagent"
   ]
  },
  {
   "cell_type": "code",
   "execution_count": null,
   "metadata": {},
   "outputs": [],
   "source": [
    "chexagent_results = pd.read_csv(\"/opt/gpudata/rrg-data-2/inference-all/inf-results/chexagent/generations.csv\")\n",
    "chexagent_findings = chexagent_results[chexagent_results[\"study_id\"].isin(find_sids)][[\"study_id\", \"findings\"]]\n",
    "chexagent_impression = chexagent_results[chexagent_results[\"study_id\"].isin(imp_sids)][[\"study_id\", \"impression\"]]\n",
    "chexagent_both = pd.DataFrame.merge(chexagent_findings, chexagent_impression, on=\"study_id\")\n",
    "\n",
    "# findings\n",
    "\n",
    "chexagent_findings_final = chexagent_findings.merge(findings_df, on=\"study_id\")\n",
    "chexagent_findings_final.rename(columns={\"findings_x\" : \"generated_text\", \"findings_y\" : \"actual_text\"}, inplace=True)\n",
    "chexagent_findings_final[[\"dicom_id\", \"study_id\", \"actual_text\", \"generated_text\"]].to_csv(\"/opt/gpudata/rrg-data-2/inference-all/inf-results/chexagent/generations_findings.csv\")\n",
    "\n",
    "# impression\n",
    "\n",
    "chexagent_impression_final = chexagent_impression.merge(impression_df, on=\"study_id\")\n",
    "chexagent_impression_final.rename(columns={\"impression_x\" : \"generated_text\", \"impression_y\" : \"actual_text\"}, inplace=True)\n",
    "chexagent_impression_final[[\"dicom_id\", \"study_id\", \"actual_text\", \"generated_text\"]].to_csv(\"/opt/gpudata/rrg-data-2/inference-all/inf-results/chexagent/generations_impression.csv\")\n",
    "\n",
    "# both\n",
    "\n",
    "def create_actual_report(row):\n",
    "    return f\"Findings:\\n{row['findings']}\\nImpression:\\n{row['impression']}\"\n",
    "\n",
    "def create_generated_report(row):\n",
    "    return f\"Findings:\\n{row['findings']}\\nImpression:\\n{row['impression']}\"\n",
    "\n",
    "full_reports_actual = pd.merge(findings_df, impression_df, on=\"study_id\")\n",
    "full_reports_actual[\"actual_text\"] = full_reports_actual.apply(create_actual_report, axis=1)\n",
    "\n",
    "# findings and impression\n",
    "chexagent_both[\"generated_text\"] = chexagent_both.apply(create_generated_report, axis=1)\n",
    "chexagent_both_final = chexagent_both.merge(full_reports_actual[[\"study_id\", \"actual_text\"]], on=\"study_id\")\n",
    "chexagent_both_final[[\"study_id\", \"actual_text\", \"generated_text\"]].to_csv(\"/opt/gpudata/rrg-data-2/inference-all/inf-results/chexagent/generations_full_reports.csv\")"
   ]
  },
  {
   "cell_type": "markdown",
   "metadata": {},
   "source": [
    "## cxr-repair"
   ]
  },
  {
   "cell_type": "code",
   "execution_count": null,
   "metadata": {},
   "outputs": [],
   "source": [
    "cxr_repair_generations = pd.read_csv(\"/opt/gpudata/rrg-data-2/inference-all/inf-results/cxr-repair/generations_full.csv\")\n",
    "# filter and add actual text from impression\n",
    "cxr_repair_gen_final = cxr_repair_generations.merge(impression_df, on=\"study_id\")\n",
    "cxr_repair_gen_final = cxr_repair_gen_final.drop_duplicates(\"study_id\").rename(columns={\"impression\" : \"actual_text\"})\n",
    "cxr_repair_gen_final[[\"dicom_id\", \"study_id\", \"actual_text\", \"generated_text\"]].to_csv(\"/opt/gpudata/rrg-data-2/inference-all/inf-results/cxr-repair/generations_impression.csv\")"
   ]
  },
  {
   "cell_type": "markdown",
   "metadata": {},
   "source": [
    "## cxr-redone"
   ]
  },
  {
   "cell_type": "code",
   "execution_count": null,
   "metadata": {},
   "outputs": [],
   "source": [
    "cxr_redone_results = pd.read_csv(\"/opt/gpudata/rrg-data-2/inference-all/inf-results/cxr-redone/generations.csv\")\n",
    "xrem_sids = pd.read_csv(\"/opt/gpudata/rrg-data-2/inference-all/inf-temp/x-rem/xrem_sids.csv\")\n",
    "cxr_redone_results = cxr_redone_results.merge(xrem_sids, left_index=True, right_index=True, how=\"inner\")\n",
    "cxr_redone_final = cxr_redone_results.merge(impression_df, on=\"study_id\")\n",
    "cxr_redone_final = cxr_redone_final.drop_duplicates(\"study_id\").rename(\n",
    "    columns={\n",
    "        \"impression\" : \"actual_text\",\n",
    "        \"Report Impression\": \"generated_text\"\n",
    "    })\n",
    "cxr_redone_final[[\"dicom_id\", \"study_id\", \"actual_text\", \"generated_text\"]].to_csv(\"/opt/gpudata/rrg-data-2/inference-all/inf-results/cxr-redone/generations_impression.csv\")"
   ]
  },
  {
   "cell_type": "markdown",
   "metadata": {},
   "source": [
    "## xrem"
   ]
  },
  {
   "cell_type": "code",
   "execution_count": null,
   "metadata": {},
   "outputs": [],
   "source": [
    "xrem_results = pd.read_csv(\"/opt/gpudata/rrg-data-2/inference-all/inf-results/x-rem/final_results_filtered.csv\")\n",
    "xrem_sids = pd.read_csv(\"/opt/gpudata/rrg-data-2/inference-all/inf-temp/x-rem/xrem_sids.csv\")\n",
    "xrem_results_all = xrem_results.merge(xrem_sids, left_index=True, right_index=True, how=\"inner\")\n",
    "xrem_results_all = xrem_results_all.merge(impression_df, on=\"study_id\")\n",
    "xrem_results_all = xrem_results_all.drop_duplicates(\"study_id\")\n",
    "xrem_results_all[[\"dicom_id\", \"study_id\", \"impression\", \"Report Impression\"]].rename(\n",
    "    columns={\n",
    "        \"impression\" : \"actual_text\",\n",
    "        \"Report Impression\" : \"generated_text\"\n",
    "    }).to_csv(\"/opt/gpudata/rrg-data-2/inference-all/inf-results/x-rem/generations_impression.csv\")"
   ]
  },
  {
   "cell_type": "markdown",
   "metadata": {},
   "source": [
    "# Create inference results"
   ]
  },
  {
   "cell_type": "code",
   "execution_count": null,
   "metadata": {},
   "outputs": [],
   "source": [
    "def extract_exp_info(experiment):\n",
    "    tabs = experiment.split(\"_\")\n",
    "    return {\n",
    "         \"section\" : \"_\".join(tabs[1:-1])\n",
    "    }\n",
    "\n",
    "# extract_exp_info(\"generations_full_reports_METRICS.csv\")\n",
    "# extract_exp_info(\"generations_findings_METRICS.csv\")\n",
    "\n",
    "# our results\n",
    "def extract_results(df):\n",
    "    results = {}\n",
    "    results[\"run\"] = \"\"\n",
    "    results[\"BLEU4\"] = df[\"bleu4\"].mean() * 100.0\n",
    "    results[\"RougeL\"]= df[\"rougeL\"].mean() * 100.0\n",
    "    results[\"BertScore\"] = df[\"bertscore\"].mean() * 100.0\n",
    "    results[\"f1-RadGraph\"] = df[\"f1radgraph\"].mean() * 100.0\n",
    "    results[\"f1-CheXbert\"] = df[\"f1chexbert\"].mean() * 100.0\n",
    "    return results"
   ]
  },
  {
   "cell_type": "code",
   "execution_count": null,
   "metadata": {},
   "outputs": [],
   "source": [
    "results_dir = \"/opt/gpudata/rrg-data-2/inference-all/inf-results/\"\n",
    "all_results = {\n",
    "    \"findings\" : [],\n",
    "    \"impression\" : [],\n",
    "    \"both\" : [],\n",
    "}\n",
    "\n",
    "for foldername in os.listdir(results_dir):\n",
    "    print(foldername)\n",
    "    folderpath = os.path.join(results_dir, foldername)\n",
    "    if os.path.isdir(folderpath):\n",
    "        for filename in os.listdir(folderpath):\n",
    "            if \"METRICS\" in filename:\n",
    "                res = extract_exp_info(filename)\n",
    "                filepath = os.path.join(results_dir, os.path.join(foldername, filename))\n",
    "                df = pd.read_csv(filepath)\n",
    "\n",
    "                # aggregate results\n",
    "                results = {}\n",
    "                run_name = f\"{foldername}_{res['section']}\"\n",
    "                results[\"run\"] = run_name\n",
    "                results[\"BLEU4\"] = df[\"bleu4\"].mean() * 100.0\n",
    "                results[\"RougeL\"]= df[\"rougeL\"].mean() * 100.0\n",
    "                results[\"BertScore\"] = df[\"bertscore\"].mean() * 100.0\n",
    "                results[\"f1-RadGraph\"] = df[\"f1radgraph\"].mean() * 100.0\n",
    "                results[\"f1-CheXbert\"] = df[\"f1chexbert\"].mean() * 100.0\n",
    "\n",
    "                if \"findings\" in filename:\n",
    "                    all_results[\"findings\"].append(results)\n",
    "                elif \"impression\" in filename:\n",
    "                    all_results[\"impression\"].append(results)\n",
    "                else:\n",
    "                    all_results[\"both\"].append(results)"
   ]
  },
  {
   "cell_type": "markdown",
   "metadata": {},
   "source": [
    "### findings"
   ]
  },
  {
   "cell_type": "code",
   "execution_count": null,
   "metadata": {},
   "outputs": [],
   "source": [
    "# findings\n",
    "findings_best = pd.read_csv(\"/opt/gpudata/rrg-data-2/exp-findings/exp-model/Mistral-7B-Instruct-v0.3_exact_pred-label_simple_top-5_findings_METRICS.csv\")\n",
    "findings_result = extract_results(findings_best)\n",
    "findings_result[\"run\"] = \"label_boosted_rag_findings\"\n",
    "pd.DataFrame(findings_result, index=[0])"
   ]
  },
  {
   "cell_type": "code",
   "execution_count": null,
   "metadata": {},
   "outputs": [],
   "source": [
    "pd.DataFrame.from_dict(all_results[\"findings\"])"
   ]
  },
  {
   "cell_type": "markdown",
   "metadata": {},
   "source": [
    "### impression"
   ]
  },
  {
   "cell_type": "code",
   "execution_count": null,
   "metadata": {},
   "outputs": [],
   "source": [
    "# impression\n",
    "findings_best = pd.read_csv(\"/opt/gpudata/rrg-data-2/exp-impression/exp-model/Mistral-7B-Instruct-v0.3_exact_pred-label_simple_top-5_impression_METRICS.csv\")\n",
    "findings_result = extract_results(findings_best)\n",
    "findings_result[\"run\"] = \"label_boosted_rag_impression\"\n",
    "pd.DataFrame(findings_result, index=[0])"
   ]
  },
  {
   "cell_type": "code",
   "execution_count": null,
   "metadata": {},
   "outputs": [],
   "source": [
    "pd.DataFrame.from_dict(all_results[\"impression\"])"
   ]
  },
  {
   "cell_type": "markdown",
   "metadata": {},
   "source": [
    "### both"
   ]
  },
  {
   "cell_type": "code",
   "execution_count": null,
   "metadata": {},
   "outputs": [],
   "source": [
    "pd.DataFrame.from_dict(all_results[\"both\"])"
   ]
  },
  {
   "cell_type": "code",
   "execution_count": null,
   "metadata": {},
   "outputs": [],
   "source": [
    "# create a list of image paths to push to rgrg for inference"
   ]
  },
  {
   "cell_type": "code",
   "execution_count": null,
   "metadata": {},
   "outputs": [],
   "source": [
    "from rrg._data import (\n",
    "    DEFAULT_DICOM_ID_COL,\n",
    "    DEFAULT_FINDINGS_COL,\n",
    "    DEFAULT_IMG_PROJ_KEY,\n",
    "    DEFAULT_IMPRESSION_COL,\n",
    "    DEFAULT_LABELS,\n",
    "    DEFAULT_PATIENT_ID_COL,\n",
    "    DEFAULT_SPLIT_COL,\n",
    "    DEFAULT_STUDY_ID_COL,\n",
    "    DEFAULT_VIEW_COL,\n",
    "    DEFAULT_VIEW_ORDER,\n",
    "    get_per_study_data,\n",
    "    get_split_features,\n",
    "    get_split_samples,\n",
    ")"
   ]
  },
  {
   "cell_type": "code",
   "execution_count": null,
   "metadata": {},
   "outputs": [],
   "source": [
    "split_csv = \"/opt/gpudata/mimic-cxr/mimic-cxr-2.0.0-split.csv\"\n",
    "metadata_csv = \"/opt/gpudata/mimic-cxr/mimic-cxr-2.0.0-metadata.csv\"\n",
    "true_label_csv = \"/opt/gpudata/mimic-cxr/mimic-cxr-2.0.0-chexpert.csv\"\n",
    "predicted_label_csv = \"/opt/gpudata/rrg-data-2/image-labels/pred_pr.csv\"\n",
    "report_csv = \"/opt/gpudata/mimic-cxr/mimic_cxr_sectioned.csv\"\n",
    "patient_id_col = DEFAULT_PATIENT_ID_COL\n",
    "study_id_col = DEFAULT_STUDY_ID_COL\n",
    "dicom_id_col = DEFAULT_DICOM_ID_COL\n",
    "split_col = DEFAULT_SPLIT_COL\n",
    "view_col = DEFAULT_VIEW_COL\n",
    "findings_col = DEFAULT_FINDINGS_COL\n",
    "impression_col = DEFAULT_IMPRESSION_COL\n",
    "labels = DEFAULT_LABELS\n",
    "view_order = DEFAULT_VIEW_ORDER\n",
    "section_type = \"both\"\n",
    "split_remap = {\n",
    "        \"train\": \"retrieval\",\n",
    "        \"validate\": \"retrieval\",\n",
    "        \"test\": \"inference\",\n",
    "    }"
   ]
  },
  {
   "cell_type": "code",
   "execution_count": null,
   "metadata": {},
   "outputs": [],
   "source": [
    "reports_df = pd.read_csv(report_csv)\n",
    "reports_df"
   ]
  },
  {
   "cell_type": "code",
   "execution_count": null,
   "metadata": {},
   "outputs": [],
   "source": [
    "reports_df.iloc[4][\"findings\"]"
   ]
  },
  {
   "cell_type": "code",
   "execution_count": null,
   "metadata": {},
   "outputs": [],
   "source": [
    "reports_df[reports_df[\"study_id\"] == 53492798]"
   ]
  },
  {
   "cell_type": "code",
   "execution_count": null,
   "metadata": {},
   "outputs": [],
   "source": [
    "if section_type == \"findings\":\n",
    "    report_cols = [findings_col]\n",
    "elif section_type == \"impression\":\n",
    "    report_cols = [impression_col]\n",
    "elif section_type == \"both\":\n",
    "    report_cols = [findings_col, impression_col]\n",
    "else:\n",
    "    raise ValueError(f\"Unknown section type: {section_type}\")\n",
    "\n",
    "# Load and merge data relative to true labels\n",
    "retrieval_df = get_per_study_data(\n",
    "    split_csv=split_csv,\n",
    "    metadata_csv=metadata_csv,\n",
    "    label_csv=true_label_csv,\n",
    "    report_csv=report_csv,\n",
    "    patient_id_col=patient_id_col,\n",
    "    study_id_col=study_id_col,\n",
    "    dicom_id_col=dicom_id_col,\n",
    "    split_col=split_col,\n",
    "    view_col=view_col,\n",
    "    labels=labels,\n",
    "    view_order=view_order,\n",
    "    report_cols=report_cols,\n",
    "    split_remap=split_remap,\n",
    ")"
   ]
  },
  {
   "cell_type": "code",
   "execution_count": null,
   "metadata": {},
   "outputs": [],
   "source": [
    "inference_df = get_per_study_data(\n",
    "        split_csv=split_csv,\n",
    "        metadata_csv=metadata_csv,\n",
    "        label_csv=predicted_label_csv,\n",
    "        report_csv=report_csv,\n",
    "        patient_id_col=patient_id_col,\n",
    "        study_id_col=study_id_col,\n",
    "        dicom_id_col=dicom_id_col,\n",
    "        split_col=split_col,\n",
    "        view_col=view_col,\n",
    "        labels=labels,\n",
    "        view_order=view_order,\n",
    "        report_cols=report_cols,\n",
    "        split_remap=split_remap,\n",
    "    )"
   ]
  },
  {
   "cell_type": "code",
   "execution_count": null,
   "metadata": {},
   "outputs": [],
   "source": [
    "inf_only_df = inference_df[inference_df[\"split\"] == \"inference\"]\n",
    "inf_only_df.columns"
   ]
  },
  {
   "cell_type": "code",
   "execution_count": null,
   "metadata": {},
   "outputs": [],
   "source": [
    "inf_only_df"
   ]
  },
  {
   "cell_type": "code",
   "execution_count": null,
   "metadata": {},
   "outputs": [],
   "source": [
    "def extract_image_path(row):\n",
    "    prefix = \"/opt/gpudata/mimic-cxr/files/\"\n",
    "    path = \"p\" + str(row[\"subject_id\"])[:2] + \"/p\" + str(row[\"subject_id\"]) + \"/s\" + str(row[\"study_id\"]) + \"/\" + str(row[\"dicom_id\"]) +\".jpg\"\n",
    "    return prefix + path\n",
    "    \n",
    "inf_only_df[\"image_path\"] = inf_only_df.apply(extract_image_path, axis=1)"
   ]
  },
  {
   "cell_type": "code",
   "execution_count": null,
   "metadata": {},
   "outputs": [],
   "source": [
    "inf_only_df.head()"
   ]
  },
  {
   "cell_type": "code",
   "execution_count": null,
   "metadata": {},
   "outputs": [],
   "source": [
    "path = inf_only_df[inf_only_df[\"study_id\"] == 53492798][\"image_path\"].tolist()\n",
    "print(path[0])"
   ]
  },
  {
   "cell_type": "code",
   "execution_count": null,
   "metadata": {},
   "outputs": [],
   "source": [
    "print(inf_only_df[inf_only_df[\"study_id\"] == 53492798][\"findings\"].tolist()[0])"
   ]
  },
  {
   "cell_type": "code",
   "execution_count": null,
   "metadata": {},
   "outputs": [],
   "source": [
    "print(inf_only_df[inf_only_df[\"study_id\"] == 53492798][\"impression\"].tolist()[0])"
   ]
  },
  {
   "cell_type": "code",
   "execution_count": null,
   "metadata": {},
   "outputs": [],
   "source": [
    "from PIL import Image\n",
    "im = Image.open(path[0])\n",
    "base_width = 512\n",
    "wpercent = (base_width / float(im.size[0]))\n",
    "hsize = int((float(im.size[1]) * float(wpercent)))\n",
    "im.resize((base_width, hsize), Image.Resampling.LANCZOS)"
   ]
  },
  {
   "cell_type": "code",
   "execution_count": null,
   "metadata": {},
   "outputs": [],
   "source": [
    "inf_find_only = inf_only_df[inf_only_df[\"findings\"].notnull()]\n",
    "print(f\"Size of the findings only inference dataset: {len(inf_find_only)}\")\n",
    "# inf_find_only.head()\n",
    "inf_find_final = inf_find_only.rename(columns={\"findings\" : \"actual_findings\"})\n",
    "inf_find_final[[\"study_id\", \"image_path\" ,\"actual_findings\"]].to_csv(\"/opt/gpudata/rrg-data-2/inference-all/inference_findings_data.csv\")"
   ]
  },
  {
   "cell_type": "code",
   "execution_count": null,
   "metadata": {},
   "outputs": [],
   "source": [
    "inf_imp_only = inf_only_df[inf_only_df[\"impression\"].notnull()]\n",
    "print(f\"Size of the findings only inference dataset: {len(inf_imp_only)}\")\n",
    "# inf_imp_only.head()\n",
    "inf_imp_final = inf_imp_only.rename(columns={\"impression\" : \"actual_impression\"})\n",
    "inf_imp_final[[\"study_id\", \"image_path\" ,\"actual_impression\"]].to_csv(\"/opt/gpudata/rrg-data-2/inference-all/inference_impression_data.csv\")"
   ]
  },
  {
   "cell_type": "markdown",
   "metadata": {},
   "source": [
    "## Results"
   ]
  },
  {
   "cell_type": "code",
   "execution_count": null,
   "metadata": {},
   "outputs": [],
   "source": [
    "rgrg_results_df = pd.read_csv(\"/opt/gpudata/rrg-data-2/inference-all/inf-results/rgrg/generations_METRICS.csv\")"
   ]
  },
  {
   "cell_type": "code",
   "execution_count": null,
   "metadata": {},
   "outputs": [],
   "source": [
    "rgrg_results_df"
   ]
  },
  {
   "cell_type": "code",
   "execution_count": null,
   "metadata": {},
   "outputs": [],
   "source": [
    "# aggregate results\n",
    "results = {\n",
    "    \n",
    "}\n",
    "df = rgrg_results_df\n",
    "results[\"BLEU4\"] = df[\"bleu4\"].mean() * 100.0\n",
    "results[\"RougeL\"]= df[\"rougeL\"].mean() * 100.0\n",
    "results[\"BertScore\"]= df[\"bertscore\"].mean() * 100.0\n",
    "results[\"f1-RadGraph\"]= df[\"f1radgraph\"].mean() * 100.0\n",
    "results[\"f1-CheXbert\"]= df[\"f1chexbert\"].mean() * 100.0"
   ]
  },
  {
   "cell_type": "code",
   "execution_count": null,
   "metadata": {},
   "outputs": [],
   "source": [
    "print(results)"
   ]
  },
  {
   "cell_type": "code",
   "execution_count": null,
   "metadata": {},
   "outputs": [],
   "source": [
    "#5.847507  22.483156  86.516446    21.026496    45.154811"
   ]
  },
  {
   "cell_type": "code",
   "execution_count": null,
   "metadata": {},
   "outputs": [],
   "source": [
    "# Study ids used in our method BoostedRAG\n",
    "inf_path = \"/opt/gpudata/rrg-data-2/inference-all/inference_set_image_paths.csv\"\n",
    "inf_df = pd.read_csv(inf_path)\n",
    "brag_inf_sids = inf_df[\"study_id\"].tolist()"
   ]
  },
  {
   "cell_type": "code",
   "execution_count": null,
   "metadata": {},
   "outputs": [],
   "source": [
    "inf_df"
   ]
  },
  {
   "cell_type": "code",
   "execution_count": null,
   "metadata": {},
   "outputs": [],
   "source": [
    "# CXR-REPAIR data preprocessing\n",
    "cxr_mimic_train = pd.read_csv(\"/opt/gpudata/rrg-data-2/inference-all/inf-temp/cxr-repair/mimic_train_full.csv\")\n",
    "cxr_mimic_test = pd.read_csv(\"/opt/gpudata/rrg-data-2/inference-all/inf-temp/cxr-repair/mimic_test_full.csv\")"
   ]
  },
  {
   "cell_type": "code",
   "execution_count": null,
   "metadata": {},
   "outputs": [],
   "source": [
    "# how many of our study ids belong to cxr train\n",
    "cxr_mimic_train[cxr_mimic_train[\"study_id\"].isin(brag_inf_sids)]"
   ]
  },
  {
   "cell_type": "code",
   "execution_count": null,
   "metadata": {},
   "outputs": [],
   "source": [
    "# how many of our study ids are found in cxr test\n",
    "cxr_mimic_test[cxr_mimic_test[\"study_id\"].isin(brag_inf_sids)].drop_duplicates(\"study_id\")"
   ]
  },
  {
   "cell_type": "raw",
   "metadata": {},
   "source": [
    "All of them exist in cxr-mimic-test for CXR-REPAIR"
   ]
  },
  {
   "cell_type": "code",
   "execution_count": null,
   "metadata": {},
   "outputs": [],
   "source": [
    "# how many of our study ids are found in cxr test impressions \n",
    "cxr_mimic_test_imp = pd.read_csv(\"/opt/gpudata/rrg-data-2/inference-all/inf-temp/cxr-repair/mimic_test_impressions.csv\")\n",
    "cxr_mimic_test_imp[cxr_mimic_test_imp[\"study_id\"].isin(brag_inf_sids)].drop_duplicates(\"study_id\")"
   ]
  },
  {
   "cell_type": "raw",
   "metadata": {},
   "source": [
    "All of them exist in cxr-mimic-test-impressions for CXR-REPAIR"
   ]
  },
  {
   "cell_type": "code",
   "execution_count": null,
   "metadata": {},
   "outputs": [],
   "source": [
    "# how many of our study ids are found in cxr test impressions after filtering\n",
    "cxr_mimic_test_imp = pd.read_csv(\"/opt/gpudata/rrg-data-2/inference-all/inf-temp/cxr-repair/mimic_test_impressions.csv\", index_col=[0])\n",
    "filtered = cxr_mimic_test_imp[cxr_mimic_test_imp[\"report\"].notnull()]\n",
    "filt_sids = filtered[filtered[\"study_id\"].isin(brag_inf_sids)][\"study_id\"].tolist()\n",
    "# filtered[filtered[\"study_id\"].isin(brag_inf_sids)]\n",
    "filtered"
   ]
  },
  {
   "cell_type": "code",
   "execution_count": null,
   "metadata": {},
   "outputs": [],
   "source": [
    "filtered_dupe = filtered.drop_duplicates(\"study_id\")\n",
    "filtered_dupe[filtered_dupe[\"study_id\"].isin(brag_inf_sids)]"
   ]
  },
  {
   "cell_type": "raw",
   "metadata": {},
   "source": [
    "There are total of 3678 studies and only 1596 of our study ids remain after filtering post de duplication"
   ]
  },
  {
   "cell_type": "code",
   "execution_count": null,
   "metadata": {},
   "outputs": [],
   "source": [
    "filt_left_out = set(brag_inf_sids) - set(filt_sids)\n",
    "cxr_mimic_test_imp[cxr_mimic_test_imp[\"study_id\"].isin(filt_left_out)].sort_values(\"study_id\", kind=\"stable\")"
   ]
  },
  {
   "cell_type": "code",
   "execution_count": null,
   "metadata": {},
   "outputs": [],
   "source": [
    "# cxr reports to generate on\n",
    "reports_df = pd.read_csv(\"/opt/gpudata/rrg-data-2/inference-all/inf-temp/cxr-repair/bootstrapped_test_set/reports.csv\")"
   ]
  },
  {
   "cell_type": "code",
   "execution_count": null,
   "metadata": {},
   "outputs": [],
   "source": [
    "reports_df.drop_duplicates(\"study_id\")"
   ]
  },
  {
   "cell_type": "code",
   "execution_count": null,
   "metadata": {},
   "outputs": [],
   "source": [
    "reports_sids = reports_df[\"study_id\"].tolist()\n",
    "len(set(brag_inf_sids) - set(reports_sids))"
   ]
  },
  {
   "cell_type": "code",
   "execution_count": null,
   "metadata": {},
   "outputs": [],
   "source": [
    "filtered"
   ]
  },
  {
   "cell_type": "code",
   "execution_count": null,
   "metadata": {},
   "outputs": [],
   "source": [
    "h5_sids_df = pd.read_csv(\"/opt/gpudata/rrg-data-2/inference-all/inf-temp/cxr-repair/sids_h5.csv\")"
   ]
  },
  {
   "cell_type": "code",
   "execution_count": null,
   "metadata": {},
   "outputs": [],
   "source": [
    "h5_sids_df"
   ]
  },
  {
   "cell_type": "code",
   "execution_count": null,
   "metadata": {},
   "outputs": [],
   "source": [
    "set(brag_inf_sids) - set(h5_sids_df.preds_sids)"
   ]
  },
  {
   "cell_type": "code",
   "execution_count": null,
   "metadata": {},
   "outputs": [],
   "source": [
    "# full cxr-repair generations\n",
    "full_gen_df = pd.read_csv(\"/opt/gpudata/rrg-data-2/inference-all/inf-results/cxr-repair/generations_full.csv\")"
   ]
  },
  {
   "cell_type": "code",
   "execution_count": null,
   "metadata": {},
   "outputs": [],
   "source": [
    "full_gen_df"
   ]
  },
  {
   "cell_type": "code",
   "execution_count": null,
   "metadata": {},
   "outputs": [],
   "source": [
    "full_gen_df.drop_duplicates(\"study_id\")"
   ]
  },
  {
   "cell_type": "code",
   "execution_count": null,
   "metadata": {},
   "outputs": [],
   "source": [
    "_gen_df = full_gen_df[full_gen_df['study_id'].isin(brag_inf_sids)].drop_duplicates(\"study_id\")"
   ]
  },
  {
   "cell_type": "code",
   "execution_count": null,
   "metadata": {},
   "outputs": [],
   "source": [
    "gen_df = _gen_df.merge(inf_df[[\"study_id\", \"actual_text\"]], on=\"study_id\")"
   ]
  },
  {
   "cell_type": "code",
   "execution_count": null,
   "metadata": {},
   "outputs": [],
   "source": [
    "gen_df[[\"study_id\", \"actual_text\", \"generated_text\"]].to_csv(\"/opt/gpudata/rrg-data-2/inference-all/inf-results/cxr-repair/generations.csv\")"
   ]
  },
  {
   "cell_type": "code",
   "execution_count": null,
   "metadata": {},
   "outputs": [],
   "source": [
    "gen_df[[\"study_id\", \"actual_text\", \"generated_text\"]]"
   ]
  },
  {
   "cell_type": "code",
   "execution_count": null,
   "metadata": {},
   "outputs": [],
   "source": [
    "from rich import print\n",
    "print(gen_df.iloc[0][\"actual_text\"])"
   ]
  },
  {
   "cell_type": "markdown",
   "metadata": {},
   "source": [
    "## Impression"
   ]
  },
  {
   "cell_type": "code",
   "execution_count": null,
   "metadata": {},
   "outputs": [],
   "source": [
    "impression_inf_df = pd.read_csv(\"/opt/gpudata/rrg-data-2/inference-all/inference_impression_data.csv\")"
   ]
  },
  {
   "cell_type": "code",
   "execution_count": null,
   "metadata": {},
   "outputs": [],
   "source": [
    "impression_inf_df"
   ]
  },
  {
   "cell_type": "code",
   "execution_count": null,
   "metadata": {},
   "outputs": [],
   "source": [
    "cxr_gen_full = pd.read_csv(\"/opt/gpudata/rrg-data-2/inference-all/inf-results/cxr-repair/generations_full.csv\")"
   ]
  },
  {
   "cell_type": "code",
   "execution_count": null,
   "metadata": {},
   "outputs": [],
   "source": [
    "cxr_gen_full"
   ]
  },
  {
   "cell_type": "code",
   "execution_count": null,
   "metadata": {},
   "outputs": [],
   "source": []
  },
  {
   "cell_type": "code",
   "execution_count": null,
   "metadata": {},
   "outputs": [],
   "source": []
  },
  {
   "cell_type": "code",
   "execution_count": null,
   "metadata": {},
   "outputs": [],
   "source": []
  },
  {
   "cell_type": "markdown",
   "metadata": {},
   "source": [
    "## Results"
   ]
  },
  {
   "cell_type": "code",
   "execution_count": null,
   "metadata": {},
   "outputs": [],
   "source": [
    "cxr_repair_results_df = pd.read_csv(\"/opt/gpudata/rrg-data-2/inference-all/inf-results/cxr-repair/generations_METRICS.csv\")"
   ]
  },
  {
   "cell_type": "code",
   "execution_count": null,
   "metadata": {},
   "outputs": [],
   "source": [
    "cxr_repair_results_df"
   ]
  },
  {
   "cell_type": "code",
   "execution_count": null,
   "metadata": {},
   "outputs": [],
   "source": [
    "# aggregate results\n",
    "results = {\n",
    "    \n",
    "}\n",
    "df = cxr_repair_results_df\n",
    "results[\"BLEU4\"] = df[\"bleu4\"].mean() * 100.0\n",
    "results[\"RougeL\"]= df[\"rougeL\"].mean() * 100.0\n",
    "results[\"BertScore\"]= df[\"bertscore\"].mean() * 100.0\n",
    "results[\"f1-RadGraph\"]= df[\"f1radgraph\"].mean() * 100.0\n",
    "results[\"f1-CheXbert\"]= df[\"f1chexbert\"].mean() * 100.0"
   ]
  },
  {
   "cell_type": "code",
   "execution_count": null,
   "metadata": {},
   "outputs": [],
   "source": [
    "print(results)"
   ]
  },
  {
   "cell_type": "code",
   "execution_count": null,
   "metadata": {},
   "outputs": [],
   "source": [
    "import torch  \n",
    "from torchvision.transforms import v2\n",
    "import transformers\n",
    "from datasets import Dataset, Features, Value, Image\n",
    "from torch.utils.data import DataLoader"
   ]
  },
  {
   "cell_type": "code",
   "execution_count": null,
   "metadata": {},
   "outputs": [],
   "source": [
    "image_paths = inf_only_df[\"image_path\"].tolist()\n",
    "study_ids = inf_only_df[\"study_id\"].tolist()\n",
    "print(f\"Size of the inference set: {len(image_paths)}\")"
   ]
  },
  {
   "cell_type": "code",
   "execution_count": null,
   "metadata": {},
   "outputs": [],
   "source": [
    "dataset_dict = {\n",
    "    \"image_path\" : image_paths,\n",
    "    \"image\" : image_paths,\n",
    "    \"study_id\" : study_ids\n",
    "}"
   ]
  },
  {
   "cell_type": "code",
   "execution_count": null,
   "metadata": {},
   "outputs": [],
   "source": [
    "features = Features(\n",
    "    {\n",
    "        \"image_path\" : Value(\"string\"),\n",
    "        \"image\" : Image(),\n",
    "        \"study_id\": Value(\"string\"),\n",
    "    }\n",
    ")"
   ]
  },
  {
   "cell_type": "code",
   "execution_count": null,
   "metadata": {},
   "outputs": [],
   "source": [
    "hf_dataset = Dataset.from_dict(dataset_dict, features=features)"
   ]
  },
  {
   "cell_type": "code",
   "execution_count": null,
   "metadata": {},
   "outputs": [],
   "source": [
    "from tqdm import trange\n",
    "for i in trange(len(hf_dataset)):\n",
    "    print(hf_dataset[i])\n",
    "    break"
   ]
  },
  {
   "cell_type": "code",
   "execution_count": null,
   "metadata": {},
   "outputs": [],
   "source": [
    "model_path = \"/opt/gpudata/rrg-data-2/inference-all/inf-models/cxrmate-rrg24/cxrmate-rrg24\"\n",
    "tokenizer = transformers.AutoTokenizer.from_pretrained(model_path)\n",
    "model = transformers.AutoModel.from_pretrained(model_path, trust_remote_code=True)"
   ]
  },
  {
   "cell_type": "code",
   "execution_count": null,
   "metadata": {},
   "outputs": [],
   "source": [
    "transforms = v2.Compose(\n",
    "    [\n",
    "        v2.PILToTensor(),\n",
    "        v2.Grayscale(num_output_channels=3),\n",
    "        v2.Resize(size=model.config.encoder.image_size, antialias=True),\n",
    "        v2.CenterCrop(size=[model.config.encoder.image_size]*2),\n",
    "        v2.ToDtype(torch.float32, scale=True),\n",
    "        v2.Normalize(mean=model.config.encoder.image_mean, std=model.config.encoder.image_std),\n",
    "    ]\n",
    ")"
   ]
  },
  {
   "cell_type": "code",
   "execution_count": null,
   "metadata": {},
   "outputs": [],
   "source": [
    "# Define a function that will apply the transformation\n",
    "def apply_transforms(examples):\n",
    "    # Apply the transformations to each image in the batch\n",
    "    transformed_images = [transforms(img) for img in examples['image']]\n",
    "    examples['image'] = transformed_images\n",
    "    return examples"
   ]
  },
  {
   "cell_type": "code",
   "execution_count": null,
   "metadata": {},
   "outputs": [],
   "source": [
    "# small = hf_dataset.select(range(20)).map(apply_transforms, batched=True, remove_columns=[\"image_path\"])"
   ]
  },
  {
   "cell_type": "code",
   "execution_count": null,
   "metadata": {},
   "outputs": [],
   "source": [
    "# # Custom collate function\n",
    "# def collate_fn(batch):\n",
    "#     images = [torch.tensor(item['image']) for item in batch]\n",
    "#     sids = [item[\"study_id\"] for item in batch]\n",
    "#     # Stack images into a single tensor\n",
    "#     images = torch.stack(images)\n",
    "#     sids = [item[\"study_id\"] for item in batch]\n",
    "#     # Optionally, handle other fields if needed\n",
    "#     # You can add code here to handle other fields in the batch if needed\n",
    "#     return {'image': images, 'sids': sids}\n",
    "\n",
    "# # Create the DataLoader\n",
    "# dataloader = DataLoader(small, batch_size=2, collate_fn=collate_fn)\n",
    "\n",
    "# for data in dataloader:\n",
    "#     print(data['image'].shape)\n",
    "#     print(data['sids'])"
   ]
  },
  {
   "cell_type": "code",
   "execution_count": null,
   "metadata": {},
   "outputs": [],
   "source": [
    "hf_dataset = hf_dataset.select(range(100)).map(apply_transforms, batched=True, batch_size=16, num_proc=1, remove_columns=\"image_path\")"
   ]
  },
  {
   "cell_type": "code",
   "execution_count": null,
   "metadata": {},
   "outputs": [],
   "source": [
    "mbatch_size = 16\n",
    "# Custom collate function\n",
    "def collate_fn(batch):\n",
    "    images = [torch.tensor(item['image']) for item in batch]\n",
    "    sids = [item[\"study_id\"] for item in batch]\n",
    "    # Stack images into a single tensor\n",
    "    images = torch.stack(images)\n",
    "    sids = [item[\"study_id\"] for item in batch]\n",
    "    # Optionally, handle other fields if needed\n",
    "    # You can add code here to handle other fields in the batch if needed\n",
    "    return {'images': images, \"sids\": sids}\n",
    "    \n",
    "dataloader = DataLoader(hf_dataset, batch_size=mbatch_size, collate_fn=collate_fn)\n",
    "batch = next(iter(dataloader))"
   ]
  },
  {
   "cell_type": "code",
   "execution_count": null,
   "metadata": {},
   "outputs": [],
   "source": [
    "i"
   ]
  },
  {
   "cell_type": "code",
   "execution_count": null,
   "metadata": {},
   "outputs": [],
   "source": [
    "output_ids = model.generate(\n",
    "    pixel_values=batch['images'].unsqueeze(1),\n",
    "    max_length=512,\n",
    "    num_beams=4,\n",
    "    bad_words_ids=[[tokenizer.convert_tokens_to_ids('[NF]')], [tokenizer.convert_tokens_to_ids('[NI]')]],\n",
    ")\n",
    "findings, impression = model.split_and_decode_sections(output_ids, tokenizer)"
   ]
  },
  {
   "cell_type": "code",
   "execution_count": null,
   "metadata": {},
   "outputs": [],
   "source": [
    "results = {\n",
    "    \"study_id\" : [],\n",
    "    \"findings\" : [],\n",
    "    \"impression\" : []\n",
    "}\n",
    "for batch in dataloader:\n",
    "    batch_ids = model.generate(\n",
    "        pixel_values=batch['images'],\n",
    "        max_length=512,\n",
    "        num_beams=4,\n",
    "        bad_words_ids=[[tokenizer.convert_tokens_to_ids('[NF]')], [tokenizer.convert_tokens_to_ids('[NI]')]],\n",
    "    )\n",
    "    batch_findings, batch_impression = model.split_and_decode_sections(batch_ids, tokenizer)\n",
    "    results[\"study_id\"].extend(batch[\"study_id\"])\n",
    "    results[\"findings\"].extend(batch_findings)\n",
    "    results[\"impression\"].extend(batch_impression)\n"
   ]
  },
  {
   "cell_type": "code",
   "execution_count": null,
   "metadata": {},
   "outputs": [],
   "source": [
    "xrem_path = \"/opt/gpudata/anirudh/git-repos/X-REM/\""
   ]
  },
  {
   "cell_type": "code",
   "execution_count": null,
   "metadata": {},
   "outputs": [],
   "source": [
    "pretrain_sids = pd.read_csv(os.path.join(xrem_path, \"mimic_pretrain_study_id.csv\"))"
   ]
  },
  {
   "cell_type": "code",
   "execution_count": null,
   "metadata": {},
   "outputs": [],
   "source": [
    "pretrain_sids.columns"
   ]
  },
  {
   "cell_type": "code",
   "execution_count": null,
   "metadata": {},
   "outputs": [],
   "source": [
    "challenge_sids = pd.read_csv(os.path.join(xrem_path, \"mimic_challenge_study_id.csv\"))"
   ]
  },
  {
   "cell_type": "code",
   "execution_count": null,
   "metadata": {},
   "outputs": [],
   "source": [
    "challenge_sids.columns"
   ]
  },
  {
   "cell_type": "code",
   "execution_count": null,
   "metadata": {},
   "outputs": [],
   "source": [
    "len(pretrain_sids[\"study_id\"])"
   ]
  },
  {
   "cell_type": "code",
   "execution_count": null,
   "metadata": {},
   "outputs": [],
   "source": [
    "len(challenge_sids[\"study_id\"])"
   ]
  },
  {
   "cell_type": "code",
   "execution_count": null,
   "metadata": {},
   "outputs": [],
   "source": [
    "inf_sids = inf_only_df[\"study_id\"].tolist()"
   ]
  },
  {
   "cell_type": "code",
   "execution_count": null,
   "metadata": {},
   "outputs": [],
   "source": [
    "len(set(challenge_sids[\"study_id\"].tolist()) - set(inf_sids))"
   ]
  },
  {
   "cell_type": "code",
   "execution_count": null,
   "metadata": {},
   "outputs": [],
   "source": [
    "train_sids = retrieval_df[retrieval_df[\"split\"] == \"retrieval\"][\"study_id\"].tolist()"
   ]
  },
  {
   "cell_type": "code",
   "execution_count": null,
   "metadata": {},
   "outputs": [],
   "source": [
    "len(set(challenge_sids[\"study_id\"].tolist()) - set(train_sids))"
   ]
  },
  {
   "cell_type": "code",
   "execution_count": null,
   "metadata": {},
   "outputs": [],
   "source": [
    "itm_df = pd.read_csv(\"/opt/gpudata/rrg-data-2/inference-all/inf-temp/x-rem/itm_results_temp.csv\")\n",
    "filt_itm_df = pd.read_csv(\"/opt/gpudata/rrg-data-2/inference-all/inf-temp/x-rem/final_results_filtered.csv\")"
   ]
  },
  {
   "cell_type": "code",
   "execution_count": null,
   "metadata": {},
   "outputs": [],
   "source": [
    "itm_df.head()"
   ]
  },
  {
   "cell_type": "code",
   "execution_count": null,
   "metadata": {},
   "outputs": [],
   "source": [
    "filt_itm_df.head()"
   ]
  },
  {
   "cell_type": "code",
   "execution_count": null,
   "metadata": {},
   "outputs": [],
   "source": [
    "print(filt_itm_df.iloc[0][\"Report Impression\"])"
   ]
  },
  {
   "cell_type": "code",
   "execution_count": null,
   "metadata": {},
   "outputs": [],
   "source": [
    "print(filt_itm_df.iloc[0][\"filtered\"])"
   ]
  },
  {
   "cell_type": "code",
   "execution_count": null,
   "metadata": {},
   "outputs": [],
   "source": [
    "len(filt_itm_df)"
   ]
  },
  {
   "cell_type": "code",
   "execution_count": null,
   "metadata": {},
   "outputs": [],
   "source": []
  },
  {
   "cell_type": "code",
   "execution_count": null,
   "metadata": {},
   "outputs": [],
   "source": [
    "naive_df=pd.read_csv(\"/opt/gpudata/rrg-data-2/exp-prompt-true/Mistral-7B-Instruct-v0.3_exact_true-label_naive_top-5_both.csv\")"
   ]
  },
  {
   "cell_type": "code",
   "execution_count": null,
   "metadata": {},
   "outputs": [],
   "source": [
    "naive_df.iloc[0][\"study_id\"]"
   ]
  },
  {
   "cell_type": "code",
   "execution_count": null,
   "metadata": {},
   "outputs": [],
   "source": [
    "print(naive_df.iloc[0][\"prompt\"])"
   ]
  },
  {
   "cell_type": "code",
   "execution_count": null,
   "metadata": {},
   "outputs": [],
   "source": [
    "simple_df=pd.read_csv(\"/opt/gpudata/rrg-data-2/exp-prompt-true/Mistral-7B-Instruct-v0.3_exact_true-label_simple_top-5_both.csv\")"
   ]
  },
  {
   "cell_type": "code",
   "execution_count": null,
   "metadata": {},
   "outputs": [],
   "source": [
    "simple_df.iloc[0][\"study_id\"]"
   ]
  },
  {
   "cell_type": "code",
   "execution_count": null,
   "metadata": {},
   "outputs": [],
   "source": [
    "print(simple_df.iloc[0][\"prompt\"])"
   ]
  },
  {
   "cell_type": "code",
   "execution_count": null,
   "metadata": {},
   "outputs": [],
   "source": [
    "verbose_df=pd.read_csv(\"/opt/gpudata/rrg-data-2/exp-prompt-true/Mistral-7B-Instruct-v0.3_exact_true-label_verbose_top-5_both.csv\")"
   ]
  },
  {
   "cell_type": "code",
   "execution_count": null,
   "metadata": {},
   "outputs": [],
   "source": [
    "verbose_df.iloc[0][\"study_id\"]"
   ]
  },
  {
   "cell_type": "code",
   "execution_count": null,
   "metadata": {},
   "outputs": [],
   "source": [
    "print(verbose_df.iloc[0][\"prompt\"])"
   ]
  },
  {
   "cell_type": "code",
   "execution_count": null,
   "metadata": {},
   "outputs": [],
   "source": [
    "instruct_df=pd.read_csv(\"/opt/gpudata/rrg-data-2/exp-prompt-true/Mistral-7B-Instruct-v0.3_exact_true-label_instruct_top-5_both.csv\")"
   ]
  },
  {
   "cell_type": "code",
   "execution_count": null,
   "metadata": {},
   "outputs": [],
   "source": [
    "instruct_df.iloc[0][\"study_id\"]"
   ]
  },
  {
   "cell_type": "code",
   "execution_count": null,
   "metadata": {},
   "outputs": [],
   "source": [
    "print(instruct_df.iloc[0][\"prompt\"])"
   ]
  },
  {
   "cell_type": "code",
   "execution_count": null,
   "metadata": {},
   "outputs": [],
   "source": [
    "inf_findings = pd.read_csv(\"/opt/gpudata/rrg-data-2/inference-all/inference_findings_data.csv\")"
   ]
  },
  {
   "cell_type": "code",
   "execution_count": null,
   "metadata": {},
   "outputs": [],
   "source": [
    "inf_findings"
   ]
  },
  {
   "cell_type": "code",
   "execution_count": null,
   "metadata": {},
   "outputs": [],
   "source": [
    "inf_impression = pd.read_csv(\"/opt/gpudata/rrg-data-2/inference-all/inference_impression_data.csv\")"
   ]
  },
  {
   "cell_type": "code",
   "execution_count": null,
   "metadata": {},
   "outputs": [],
   "source": [
    "inf_impression"
   ]
  },
  {
   "cell_type": "code",
   "execution_count": null,
   "metadata": {},
   "outputs": [],
   "source": [
    "# both\n",
    "\n",
    "findings_intersect_impression = pd.merge(inf_findings, inf_impression, how=\"inner\", on = [\"study_id\"]).dropna()"
   ]
  },
  {
   "cell_type": "code",
   "execution_count": null,
   "metadata": {},
   "outputs": [],
   "source": [
    "findings_intersect_impression"
   ]
  },
  {
   "cell_type": "code",
   "execution_count": null,
   "metadata": {},
   "outputs": [],
   "source": [
    "result_path = \"/opt/gpudata/rrg-data-2/inference-all/inf-results\"\n",
    "\n",
    "def create_actual_report(row):\n",
    "    return f\"Findings:\\n{row['actual_findings']}\\nImpression:\\n{row['actual_impression']}\"\n",
    "\n",
    "def create_generated_report(row):\n",
    "    return f\"Findings:\\n{row['findings']}\\nImpression:\\n{row['impression']}\"\n",
    "\n",
    "\n",
    "for foldername in os.listdir(result_path):\n",
    "    print(f\"Process folder : {foldername}\")\n",
    "    folderpath = os.path.join(result_path, foldername)\n",
    "    if foldername not in [\"cxr-llava\", \"cxr-redone\", \"pragmatic\"]:\n",
    "        for filename in os.listdir(folderpath):\n",
    "            if filename == \"generations.csv\":\n",
    "                df = pd.read_csv(os.path.join(folderpath, filename))\n",
    "                # print(df)\n",
    "                cols = df.columns\n",
    "                if \"findings\" in cols:\n",
    "                    gen_find = inf_findings.merge(df, on=\"study_id\")\n",
    "                    final_df = gen_find[[\"study_id\", \"actual_findings\" , \"findings\"]]\n",
    "                    output_name = \"generations_findings.csv\"\n",
    "\n",
    "                    final_df.rename(columns={\n",
    "                        \"study_id\":\"study_id\", \n",
    "                        \"actual_findings\" : \"actual_text\", \n",
    "                        \"findings\" : \"generated_text\"\n",
    "                        }).to_csv(\n",
    "                            os.path.join(folderpath, output_name),\n",
    "                            index=False\n",
    "                        )\n",
    "                    \n",
    "                if \"impression\" in cols:\n",
    "                    gen_imp = inf_impression.merge(df, on=\"study_id\")\n",
    "                    final_df = gen_imp[[\"study_id\", \"actual_impression\" , \"impression\"]]\n",
    "                    output_name = \"generations_impression.csv\"\n",
    "\n",
    "                    final_df.rename(\n",
    "                            columns={\n",
    "                            \"study_id\" : \"study_id\",\n",
    "                            \"actual_impression\" : \"actual_text\",\n",
    "                            \"impression\" : \"generated_text\"\n",
    "                        }\n",
    "                    ).to_csv(\n",
    "                        os.path.join(folderpath, output_name),\n",
    "                        index=False\n",
    "                    )\n",
    "\n",
    "                if \"findings\" and \"impression\" in cols:\n",
    "                    gen_rep = findings_intersect_impression.merge(df, on=\"study_id\")\n",
    "                    gen_rep[\"actual_report\"] = gen_rep.apply(create_actual_report, axis=1)\n",
    "                    gen_rep[\"generated_report\"] = gen_rep.apply(create_generated_report, axis=1)\n",
    "                    final_df = gen_rep[[\"study_id\", \"actual_report\", \"generated_report\"]]\n",
    "                    output_name = \"generations_full_reports.csv\"\n",
    "\n",
    "                    final_df.rename(\n",
    "                        columns={\n",
    "                            \"study_id\" : \"study_id\",\n",
    "                            \"actual_report\" : \"actual_text\",\n",
    "                            \"generated_report\" : \"generated_text\"\n",
    "                        }\n",
    "                    ).to_csv(\n",
    "                        os.path.join(folderpath, output_name),\n",
    "                        index=False\n",
    "                    )\n"
   ]
  }
 ],
 "metadata": {
  "kernelspec": {
   "display_name": "Python 3 (ipykernel)",
   "language": "python",
   "name": "python3"
  },
  "language_info": {
   "codemirror_mode": {
    "name": "ipython",
    "version": 3
   },
   "file_extension": ".py",
   "mimetype": "text/x-python",
   "name": "python",
   "nbconvert_exporter": "python",
   "pygments_lexer": "ipython3",
   "version": "3.10.13"
  }
 },
 "nbformat": 4,
 "nbformat_minor": 4
}
