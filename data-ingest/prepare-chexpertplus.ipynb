{
 "cells": [
  {
   "cell_type": "markdown",
   "id": "0",
   "metadata": {},
   "source": [
    "Need globally unique study and dicom IDs, construct by concatenating patient/study/dicom IDs together"
   ]
  },
  {
   "cell_type": "code",
   "execution_count": null,
   "id": "1",
   "metadata": {},
   "outputs": [],
   "source": [
    "import pandas as pd\n",
    "import h5py\n",
    "from tqdm import tqdm"
   ]
  },
  {
   "cell_type": "code",
   "execution_count": null,
   "id": "2",
   "metadata": {},
   "outputs": [],
   "source": [
    "with h5py.File(\"/opt/gpudata/labrag-chexpertplus/biovilt-features.h5\", \"a\") as h5:\n",
    "    for k in [\"img_embed\", \"img_proj\"]:\n",
    "        group_k = h5[k]\n",
    "        for pid in tqdm(group_k.keys()):\n",
    "            group_p = group_k[pid]\n",
    "            for sid in group_p.keys():\n",
    "                if pid in sid:\n",
    "                    continue\n",
    "                group_s = group_p[sid]\n",
    "                for did in group_s.keys():\n",
    "                    if sid in did:\n",
    "                        continue\n",
    "                    group_s.move(did, f\"{pid}_{sid}_{did}\")\n",
    "                group_p.move(sid, f\"{pid}_{sid}\")\n"
   ]
  },
  {
   "cell_type": "code",
   "execution_count": null,
   "id": "3",
   "metadata": {},
   "outputs": [],
   "source": [
    "clinical = pd.read_csv(\"/opt/gpudata/chexpertplus/df_chexpert_plus_240401.csv\")\n",
    "labels = pd.read_json(\"/opt/gpudata/chexpertplus/report_fixed.json\", lines=True) # Use labels derived from study\n",
    "label_cols = labels.columns.to_list()[1:]"
   ]
  },
  {
   "cell_type": "code",
   "execution_count": null,
   "id": "4",
   "metadata": {},
   "outputs": [],
   "source": [
    "for df in [clinical, labels]:\n",
    "    ids = df[\"path_to_image\"].str.split(\"/\")\n",
    "    df[\"subject_id\"] = ids.str[1]\n",
    "    df[\"study_id\"] = ids.str[1] + \"_\" + ids.str[2]\n",
    "    df[\"dicom_id\"] = ids.str[1] + \"_\" + ids.str[2] + \"_\" + ids.str[3].str.split(\".\").str[0]"
   ]
  },
  {
   "cell_type": "code",
   "execution_count": null,
   "id": "5",
   "metadata": {},
   "outputs": [],
   "source": [
    "# unclear why patient32368 image couldn't be processed, omit\n",
    "clinical = clinical[clinical[\"subject_id\"] != \"patient32368\"].reset_index(drop=True)\n",
    "labels = labels[labels[\"subject_id\"] != \"patient32368\"].reset_index(drop=True)"
   ]
  },
  {
   "cell_type": "code",
   "execution_count": null,
   "id": "6",
   "metadata": {},
   "outputs": [],
   "source": [
    "# derive new validation split, use provided validation split as test split\n",
    "train_subjects = clinical.loc[clinical[\"split\"] == \"train\", \"subject_id\"].drop_duplicates()\n",
    "new_validate = set(train_subjects.sample(n=400, replace=False, random_state=42))\n",
    "clinical[\"split\"] = clinical[\"split\"].replace({\"valid\": \"test\"})\n",
    "clinical.loc[clinical[\"subject_id\"].isin(new_validate), \"split\"] = \"validate\""
   ]
  },
  {
   "cell_type": "code",
   "execution_count": null,
   "id": "7",
   "metadata": {},
   "outputs": [],
   "source": [
    "split_df = clinical[[\"subject_id\", \"study_id\", \"dicom_id\", \"split\"]]\n",
    "metadata_df = clinical[[\"subject_id\", \"study_id\", \"dicom_id\", \"ap_pa\"]]\n",
    "label_df = labels[[\"subject_id\", \"study_id\", \"dicom_id\"] + label_cols]\n",
    "report_df = clinical[[\"subject_id\", \"study_id\", \"dicom_id\", \"section_findings\", \"section_impression\"]]"
   ]
  },
  {
   "cell_type": "code",
   "execution_count": null,
   "id": "8",
   "metadata": {},
   "outputs": [],
   "source": [
    "label_df = label_df.sort_values([\"subject_id\", \"study_id\", \"dicom_id\"]).drop_duplicates([\"subject_id\", \"study_id\"], keep=\"first\").reset_index(drop=True)\n",
    "report_df = report_df.sort_values([\"subject_id\", \"study_id\", \"dicom_id\"]).drop_duplicates([\"subject_id\", \"study_id\"], keep=\"first\").reset_index(drop=True)"
   ]
  },
  {
   "cell_type": "code",
   "execution_count": null,
   "id": "9",
   "metadata": {},
   "outputs": [],
   "source": [
    "split_df.to_csv(\"/opt/gpudata/labrag-chexpertplus/split.csv\", index=False)\n",
    "metadata_df.to_csv(\"/opt/gpudata/labrag-chexpertplus/metadata.csv\", index=False)\n",
    "label_df.to_csv(\"/opt/gpudata/labrag-chexpertplus/label.csv\", index=False)\n",
    "report_df.to_csv(\"/opt/gpudata/labrag-chexpertplus/report.csv\", index=False)"
   ]
  },
  {
   "cell_type": "code",
   "execution_count": null,
   "id": "10",
   "metadata": {},
   "outputs": [],
   "source": [
    "metadata_df[\"ap_pa\"].value_counts()"
   ]
  },
  {
   "cell_type": "code",
   "execution_count": null,
   "id": "11",
   "metadata": {},
   "outputs": [],
   "source": []
  }
 ],
 "metadata": {
  "kernelspec": {
   "display_name": "rrg",
   "language": "python",
   "name": "python3"
  },
  "language_info": {
   "codemirror_mode": {
    "name": "ipython",
    "version": 3
   },
   "file_extension": ".py",
   "mimetype": "text/x-python",
   "name": "python",
   "nbconvert_exporter": "python",
   "pygments_lexer": "ipython3",
   "version": "3.10.13"
  }
 },
 "nbformat": 4,
 "nbformat_minor": 5
}
