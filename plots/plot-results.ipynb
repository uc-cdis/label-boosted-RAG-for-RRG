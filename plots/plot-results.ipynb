{
 "cells": [
  {
   "cell_type": "code",
   "execution_count": null,
   "id": "0",
   "metadata": {},
   "outputs": [],
   "source": [
    "import os\n",
    "\n",
    "from utils import (\n",
    "    get_experiments_metadata,\n",
    "    check_duplicate_runs,\n",
    "    plot_experiment,\n",
    "    get_experiment_results,\n",
    ")\n",
    "\n",
    "BASE_OUTPUT_DIR = \"/opt/gpudata/labrag\""
   ]
  },
  {
   "cell_type": "code",
   "execution_count": null,
   "id": "1",
   "metadata": {},
   "outputs": [],
   "source": [
    "# check_duplicate_runs(BASE_OUTPUT_DIR)"
   ]
  },
  {
   "cell_type": "code",
   "execution_count": null,
   "id": "2",
   "metadata": {},
   "outputs": [],
   "source": [
    "for dataset in [\n",
    "    # \"mimic-cxr\",\n",
    "    \"chexpertplus\",\n",
    "]:\n",
    "    for section in [\n",
    "        \"findings\",\n",
    "        # \"impression\",\n",
    "    ]:\n",
    "        fig_dir = f\"../figs/{dataset}-{section}\"\n",
    "        os.makedirs(fig_dir, exist_ok=True)\n",
    "        experiments = get_experiments_metadata(\n",
    "            dataset=dataset,\n",
    "            section=section,\n",
    "            result_dir=BASE_OUTPUT_DIR,\n",
    "        )\n",
    "        for exp_name, (exp_dir, exp_trials) in experiments.items():\n",
    "            save_name = exp_name.replace(' ', '-').lower()\n",
    "            trial_dfs = get_experiment_results(\n",
    "                exp_dir=exp_dir,\n",
    "                exp_trials=exp_trials,\n",
    "                normalize_bertscore_lang=\"en\",\n",
    "            )\n",
    "\n",
    "            # Clinical metrics\n",
    "            fig = plot_experiment(\n",
    "                section=exp_name,\n",
    "                exp_name=exp_name,\n",
    "                exp_trials=exp_trials,\n",
    "                trial_dfs=trial_dfs,\n",
    "                metrics=[\"f1radgraph\", \"f1chexbert\"],\n",
    "                # n_resamples=100,\n",
    "            )\n",
    "            # fig.savefig(os.path.join(fig_dir, f\"{save_name}.pdf\"))\n",
    "            # fig.savefig(os.path.join(fig_dir, f\"{save_name}.png\"), dpi=300)\n",
    "\n",
    "            # Full metrics\n",
    "            # fig = plot_experiment(\n",
    "            #     section=section,\n",
    "            #     exp_name=exp_name,\n",
    "            #     exp_trials=exp_trials,\n",
    "            #     trial_dfs=trial_dfs,\n",
    "            #     metrics=[\"bleu4\", \"rougeL\", \"bertscore\", \"f1radgraph\", \"f1chexbert\"],\n",
    "            # )\n",
    "            # fig.savefig(os.path.join(fig_dir, f\"{save_name}-full.pdf\"))\n",
    "            # fig.savefig(os.path.join(fig_dir, f\"{save_name}-full.png\"), dpi=300)"
   ]
  },
  {
   "cell_type": "code",
   "execution_count": null,
   "id": "3",
   "metadata": {},
   "outputs": [],
   "source": []
  }
 ],
 "metadata": {
  "kernelspec": {
   "display_name": "labrag",
   "language": "python",
   "name": "python3"
  },
  "language_info": {
   "codemirror_mode": {
    "name": "ipython",
    "version": 3
   },
   "file_extension": ".py",
   "mimetype": "text/x-python",
   "name": "python",
   "nbconvert_exporter": "python",
   "pygments_lexer": "ipython3",
   "version": "3.10.13"
  }
 },
 "nbformat": 4,
 "nbformat_minor": 5
}
